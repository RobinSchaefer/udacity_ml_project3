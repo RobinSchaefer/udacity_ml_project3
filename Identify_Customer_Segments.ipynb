{
 "cells": [
  {
   "cell_type": "markdown",
   "metadata": {},
   "source": [
    "# Project: Identify Customer Segments\n",
    "\n",
    "In this project, you will apply unsupervised learning techniques to identify segments of the population that form the core customer base for a mail-order sales company in Germany. These segments can then be used to direct marketing campaigns towards audiences that will have the highest expected rate of returns. The data that you will use has been provided by our partners at Bertelsmann Arvato Analytics, and represents a real-life data science task.\n",
    "\n",
    "This notebook will help you complete this task by providing a framework within which you will perform your analysis steps. In each step of the project, you will see some text describing the subtask that you will perform, followed by one or more code cells for you to complete your work. **Feel free to add additional code and markdown cells as you go along so that you can explore everything in precise chunks.** The code cells provided in the base template will outline only the major tasks, and will usually not be enough to cover all of the minor tasks that comprise it.\n",
    "\n",
    "It should be noted that while there will be precise guidelines on how you should handle certain tasks in the project, there will also be places where an exact specification is not provided. **There will be times in the project where you will need to make and justify your own decisions on how to treat the data.** These are places where there may not be only one way to handle the data. In real-life tasks, there may be many valid ways to approach an analysis task. One of the most important things you can do is clearly document your approach so that other scientists can understand the decisions you've made.\n",
    "\n",
    "At the end of most sections, there will be a Markdown cell labeled **Discussion**. In these cells, you will report your findings for the completed section, as well as document the decisions that you made in your approach to each subtask. **Your project will be evaluated not just on the code used to complete the tasks outlined, but also your communication about your observations and conclusions at each stage.**"
   ]
  },
  {
   "cell_type": "code",
   "execution_count": 1,
   "metadata": {},
   "outputs": [
    {
     "data": {
      "text/plain": [
       "'\\nImport note: The classroom currently uses sklearn version 0.19.\\nIf you need to use an imputer, it is available in sklearn.preprocessing.Imputer,\\ninstead of sklearn.impute as in newer versions of sklearn.\\n'"
      ]
     },
     "execution_count": 1,
     "metadata": {},
     "output_type": "execute_result"
    }
   ],
   "source": [
    "# import libraries here; add more as necessary\n",
    "import numpy as np\n",
    "import pandas as pd\n",
    "import matplotlib.pyplot as plt\n",
    "import seaborn as sns\n",
    "from sklearn.preprocessing import Imputer, StandardScaler\n",
    "from sklearn.decomposition import PCA\n",
    "from sklearn.cluster import KMeans\n",
    "\n",
    "import re\n",
    "\n",
    "# magic word for producing visualizations in notebook\n",
    "%matplotlib inline\n",
    "\n",
    "'''\n",
    "Import note: The classroom currently uses sklearn version 0.19.\n",
    "If you need to use an imputer, it is available in sklearn.preprocessing.Imputer,\n",
    "instead of sklearn.impute as in newer versions of sklearn.\n",
    "'''"
   ]
  },
  {
   "cell_type": "markdown",
   "metadata": {},
   "source": [
    "### Step 0: Load the Data\n",
    "\n",
    "There are four files associated with this project (not including this one):\n",
    "\n",
    "- `Udacity_AZDIAS_Subset.csv`: Demographics data for the general population of Germany; 891211 persons (rows) x 85 features (columns).\n",
    "- `Udacity_CUSTOMERS_Subset.csv`: Demographics data for customers of a mail-order company; 191652 persons (rows) x 85 features (columns).\n",
    "- `Data_Dictionary.md`: Detailed information file about the features in the provided datasets.\n",
    "- `AZDIAS_Feature_Summary.csv`: Summary of feature attributes for demographics data; 85 features (rows) x 4 columns\n",
    "\n",
    "Each row of the demographics files represents a single person, but also includes information outside of individuals, including information about their household, building, and neighborhood. You will use this information to cluster the general population into groups with similar demographic properties. Then, you will see how the people in the customers dataset fit into those created clusters. The hope here is that certain clusters are over-represented in the customers data, as compared to the general population; those over-represented clusters will be assumed to be part of the core userbase. This information can then be used for further applications, such as targeting for a marketing campaign.\n",
    "\n",
    "To start off with, load in the demographics data for the general population into a pandas DataFrame, and do the same for the feature attributes summary. Note for all of the `.csv` data files in this project: they're semicolon (`;`) delimited, so you'll need an additional argument in your [`read_csv()`](https://pandas.pydata.org/pandas-docs/stable/generated/pandas.read_csv.html) call to read in the data properly. Also, considering the size of the main dataset, it may take some time for it to load completely.\n",
    "\n",
    "Once the dataset is loaded, it's recommended that you take a little bit of time just browsing the general structure of the dataset and feature summary file. You'll be getting deep into the innards of the cleaning in the first major step of the project, so gaining some general familiarity can help you get your bearings."
   ]
  },
  {
   "cell_type": "code",
   "execution_count": 2,
   "metadata": {},
   "outputs": [],
   "source": [
    "# Load in the general demographics data.\n",
    "azdias = pd.read_csv('Udacity_AZDIAS_Subset.csv', sep=';')\n",
    "\n",
    "# Load in the feature summary file.\n",
    "feat_info = pd.read_csv('AZDIAS_Feature_Summary.csv', sep=';')"
   ]
  },
  {
   "cell_type": "code",
   "execution_count": 3,
   "metadata": {},
   "outputs": [
    {
     "data": {
      "text/html": [
       "<div>\n",
       "<style scoped>\n",
       "    .dataframe tbody tr th:only-of-type {\n",
       "        vertical-align: middle;\n",
       "    }\n",
       "\n",
       "    .dataframe tbody tr th {\n",
       "        vertical-align: top;\n",
       "    }\n",
       "\n",
       "    .dataframe thead th {\n",
       "        text-align: right;\n",
       "    }\n",
       "</style>\n",
       "<table border=\"1\" class=\"dataframe\">\n",
       "  <thead>\n",
       "    <tr style=\"text-align: right;\">\n",
       "      <th></th>\n",
       "      <th>AGER_TYP</th>\n",
       "      <th>ALTERSKATEGORIE_GROB</th>\n",
       "      <th>ANREDE_KZ</th>\n",
       "      <th>CJT_GESAMTTYP</th>\n",
       "      <th>FINANZ_MINIMALIST</th>\n",
       "      <th>FINANZ_SPARER</th>\n",
       "      <th>FINANZ_VORSORGER</th>\n",
       "      <th>FINANZ_ANLEGER</th>\n",
       "      <th>FINANZ_UNAUFFAELLIGER</th>\n",
       "      <th>FINANZ_HAUSBAUER</th>\n",
       "      <th>...</th>\n",
       "      <th>PLZ8_ANTG1</th>\n",
       "      <th>PLZ8_ANTG2</th>\n",
       "      <th>PLZ8_ANTG3</th>\n",
       "      <th>PLZ8_ANTG4</th>\n",
       "      <th>PLZ8_BAUMAX</th>\n",
       "      <th>PLZ8_HHZ</th>\n",
       "      <th>PLZ8_GBZ</th>\n",
       "      <th>ARBEIT</th>\n",
       "      <th>ORTSGR_KLS9</th>\n",
       "      <th>RELAT_AB</th>\n",
       "    </tr>\n",
       "  </thead>\n",
       "  <tbody>\n",
       "    <tr>\n",
       "      <th>0</th>\n",
       "      <td>-1</td>\n",
       "      <td>2</td>\n",
       "      <td>1</td>\n",
       "      <td>2.0</td>\n",
       "      <td>3</td>\n",
       "      <td>4</td>\n",
       "      <td>3</td>\n",
       "      <td>5</td>\n",
       "      <td>5</td>\n",
       "      <td>3</td>\n",
       "      <td>...</td>\n",
       "      <td>NaN</td>\n",
       "      <td>NaN</td>\n",
       "      <td>NaN</td>\n",
       "      <td>NaN</td>\n",
       "      <td>NaN</td>\n",
       "      <td>NaN</td>\n",
       "      <td>NaN</td>\n",
       "      <td>NaN</td>\n",
       "      <td>NaN</td>\n",
       "      <td>NaN</td>\n",
       "    </tr>\n",
       "    <tr>\n",
       "      <th>1</th>\n",
       "      <td>-1</td>\n",
       "      <td>1</td>\n",
       "      <td>2</td>\n",
       "      <td>5.0</td>\n",
       "      <td>1</td>\n",
       "      <td>5</td>\n",
       "      <td>2</td>\n",
       "      <td>5</td>\n",
       "      <td>4</td>\n",
       "      <td>5</td>\n",
       "      <td>...</td>\n",
       "      <td>2.0</td>\n",
       "      <td>3.0</td>\n",
       "      <td>2.0</td>\n",
       "      <td>1.0</td>\n",
       "      <td>1.0</td>\n",
       "      <td>5.0</td>\n",
       "      <td>4.0</td>\n",
       "      <td>3.0</td>\n",
       "      <td>5.0</td>\n",
       "      <td>4.0</td>\n",
       "    </tr>\n",
       "    <tr>\n",
       "      <th>2</th>\n",
       "      <td>-1</td>\n",
       "      <td>3</td>\n",
       "      <td>2</td>\n",
       "      <td>3.0</td>\n",
       "      <td>1</td>\n",
       "      <td>4</td>\n",
       "      <td>1</td>\n",
       "      <td>2</td>\n",
       "      <td>3</td>\n",
       "      <td>5</td>\n",
       "      <td>...</td>\n",
       "      <td>3.0</td>\n",
       "      <td>3.0</td>\n",
       "      <td>1.0</td>\n",
       "      <td>0.0</td>\n",
       "      <td>1.0</td>\n",
       "      <td>4.0</td>\n",
       "      <td>4.0</td>\n",
       "      <td>3.0</td>\n",
       "      <td>5.0</td>\n",
       "      <td>2.0</td>\n",
       "    </tr>\n",
       "    <tr>\n",
       "      <th>3</th>\n",
       "      <td>2</td>\n",
       "      <td>4</td>\n",
       "      <td>2</td>\n",
       "      <td>2.0</td>\n",
       "      <td>4</td>\n",
       "      <td>2</td>\n",
       "      <td>5</td>\n",
       "      <td>2</td>\n",
       "      <td>1</td>\n",
       "      <td>2</td>\n",
       "      <td>...</td>\n",
       "      <td>2.0</td>\n",
       "      <td>2.0</td>\n",
       "      <td>2.0</td>\n",
       "      <td>0.0</td>\n",
       "      <td>1.0</td>\n",
       "      <td>3.0</td>\n",
       "      <td>4.0</td>\n",
       "      <td>2.0</td>\n",
       "      <td>3.0</td>\n",
       "      <td>3.0</td>\n",
       "    </tr>\n",
       "    <tr>\n",
       "      <th>4</th>\n",
       "      <td>-1</td>\n",
       "      <td>3</td>\n",
       "      <td>1</td>\n",
       "      <td>5.0</td>\n",
       "      <td>4</td>\n",
       "      <td>3</td>\n",
       "      <td>4</td>\n",
       "      <td>1</td>\n",
       "      <td>3</td>\n",
       "      <td>2</td>\n",
       "      <td>...</td>\n",
       "      <td>2.0</td>\n",
       "      <td>4.0</td>\n",
       "      <td>2.0</td>\n",
       "      <td>1.0</td>\n",
       "      <td>2.0</td>\n",
       "      <td>3.0</td>\n",
       "      <td>3.0</td>\n",
       "      <td>4.0</td>\n",
       "      <td>6.0</td>\n",
       "      <td>5.0</td>\n",
       "    </tr>\n",
       "  </tbody>\n",
       "</table>\n",
       "<p>5 rows × 85 columns</p>\n",
       "</div>"
      ],
      "text/plain": [
       "   AGER_TYP  ALTERSKATEGORIE_GROB  ANREDE_KZ  CJT_GESAMTTYP  \\\n",
       "0        -1                     2          1            2.0   \n",
       "1        -1                     1          2            5.0   \n",
       "2        -1                     3          2            3.0   \n",
       "3         2                     4          2            2.0   \n",
       "4        -1                     3          1            5.0   \n",
       "\n",
       "   FINANZ_MINIMALIST  FINANZ_SPARER  FINANZ_VORSORGER  FINANZ_ANLEGER  \\\n",
       "0                  3              4                 3               5   \n",
       "1                  1              5                 2               5   \n",
       "2                  1              4                 1               2   \n",
       "3                  4              2                 5               2   \n",
       "4                  4              3                 4               1   \n",
       "\n",
       "   FINANZ_UNAUFFAELLIGER  FINANZ_HAUSBAUER    ...     PLZ8_ANTG1  PLZ8_ANTG2  \\\n",
       "0                      5                 3    ...            NaN         NaN   \n",
       "1                      4                 5    ...            2.0         3.0   \n",
       "2                      3                 5    ...            3.0         3.0   \n",
       "3                      1                 2    ...            2.0         2.0   \n",
       "4                      3                 2    ...            2.0         4.0   \n",
       "\n",
       "   PLZ8_ANTG3  PLZ8_ANTG4  PLZ8_BAUMAX  PLZ8_HHZ  PLZ8_GBZ  ARBEIT  \\\n",
       "0         NaN         NaN          NaN       NaN       NaN     NaN   \n",
       "1         2.0         1.0          1.0       5.0       4.0     3.0   \n",
       "2         1.0         0.0          1.0       4.0       4.0     3.0   \n",
       "3         2.0         0.0          1.0       3.0       4.0     2.0   \n",
       "4         2.0         1.0          2.0       3.0       3.0     4.0   \n",
       "\n",
       "   ORTSGR_KLS9  RELAT_AB  \n",
       "0          NaN       NaN  \n",
       "1          5.0       4.0  \n",
       "2          5.0       2.0  \n",
       "3          3.0       3.0  \n",
       "4          6.0       5.0  \n",
       "\n",
       "[5 rows x 85 columns]"
      ]
     },
     "execution_count": 3,
     "metadata": {},
     "output_type": "execute_result"
    }
   ],
   "source": [
    "# Check the structure of the data after it's loaded (e.g. print the number of\n",
    "# rows and columns, print the first few rows).\n",
    "\n",
    "azdias.head()"
   ]
  },
  {
   "cell_type": "code",
   "execution_count": 4,
   "metadata": {},
   "outputs": [
    {
     "name": "stdout",
     "output_type": "stream",
     "text": [
      "Shape of general demographics data: (891221, 85)\n"
     ]
    }
   ],
   "source": [
    "print('Shape of general demographics data: {}'.format(azdias.shape))"
   ]
  },
  {
   "cell_type": "code",
   "execution_count": 5,
   "metadata": {},
   "outputs": [
    {
     "name": "stdout",
     "output_type": "stream",
     "text": [
      "<class 'pandas.core.frame.DataFrame'>\n",
      "RangeIndex: 891221 entries, 0 to 891220\n",
      "Data columns (total 85 columns):\n",
      "AGER_TYP                 891221 non-null int64\n",
      "ALTERSKATEGORIE_GROB     891221 non-null int64\n",
      "ANREDE_KZ                891221 non-null int64\n",
      "CJT_GESAMTTYP            886367 non-null float64\n",
      "FINANZ_MINIMALIST        891221 non-null int64\n",
      "FINANZ_SPARER            891221 non-null int64\n",
      "FINANZ_VORSORGER         891221 non-null int64\n",
      "FINANZ_ANLEGER           891221 non-null int64\n",
      "FINANZ_UNAUFFAELLIGER    891221 non-null int64\n",
      "FINANZ_HAUSBAUER         891221 non-null int64\n",
      "FINANZTYP                891221 non-null int64\n",
      "GEBURTSJAHR              891221 non-null int64\n",
      "GFK_URLAUBERTYP          886367 non-null float64\n",
      "GREEN_AVANTGARDE         891221 non-null int64\n",
      "HEALTH_TYP               891221 non-null int64\n",
      "LP_LEBENSPHASE_FEIN      886367 non-null float64\n",
      "LP_LEBENSPHASE_GROB      886367 non-null float64\n",
      "LP_FAMILIE_FEIN          886367 non-null float64\n",
      "LP_FAMILIE_GROB          886367 non-null float64\n",
      "LP_STATUS_FEIN           886367 non-null float64\n",
      "LP_STATUS_GROB           886367 non-null float64\n",
      "NATIONALITAET_KZ         891221 non-null int64\n",
      "PRAEGENDE_JUGENDJAHRE    891221 non-null int64\n",
      "RETOURTYP_BK_S           886367 non-null float64\n",
      "SEMIO_SOZ                891221 non-null int64\n",
      "SEMIO_FAM                891221 non-null int64\n",
      "SEMIO_REL                891221 non-null int64\n",
      "SEMIO_MAT                891221 non-null int64\n",
      "SEMIO_VERT               891221 non-null int64\n",
      "SEMIO_LUST               891221 non-null int64\n",
      "SEMIO_ERL                891221 non-null int64\n",
      "SEMIO_KULT               891221 non-null int64\n",
      "SEMIO_RAT                891221 non-null int64\n",
      "SEMIO_KRIT               891221 non-null int64\n",
      "SEMIO_DOM                891221 non-null int64\n",
      "SEMIO_KAEM               891221 non-null int64\n",
      "SEMIO_PFLICHT            891221 non-null int64\n",
      "SEMIO_TRADV              891221 non-null int64\n",
      "SHOPPER_TYP              891221 non-null int64\n",
      "SOHO_KZ                  817722 non-null float64\n",
      "TITEL_KZ                 817722 non-null float64\n",
      "VERS_TYP                 891221 non-null int64\n",
      "ZABEOTYP                 891221 non-null int64\n",
      "ALTER_HH                 817722 non-null float64\n",
      "ANZ_PERSONEN             817722 non-null float64\n",
      "ANZ_TITEL                817722 non-null float64\n",
      "HH_EINKOMMEN_SCORE       872873 non-null float64\n",
      "KK_KUNDENTYP             306609 non-null float64\n",
      "W_KEIT_KIND_HH           783619 non-null float64\n",
      "WOHNDAUER_2008           817722 non-null float64\n",
      "ANZ_HAUSHALTE_AKTIV      798073 non-null float64\n",
      "ANZ_HH_TITEL             794213 non-null float64\n",
      "GEBAEUDETYP              798073 non-null float64\n",
      "KONSUMNAEHE              817252 non-null float64\n",
      "MIN_GEBAEUDEJAHR         798073 non-null float64\n",
      "OST_WEST_KZ              798073 non-null object\n",
      "WOHNLAGE                 798073 non-null float64\n",
      "CAMEO_DEUG_2015          792242 non-null object\n",
      "CAMEO_DEU_2015           792242 non-null object\n",
      "CAMEO_INTL_2015          792242 non-null object\n",
      "KBA05_ANTG1              757897 non-null float64\n",
      "KBA05_ANTG2              757897 non-null float64\n",
      "KBA05_ANTG3              757897 non-null float64\n",
      "KBA05_ANTG4              757897 non-null float64\n",
      "KBA05_BAUMAX             757897 non-null float64\n",
      "KBA05_GBZ                757897 non-null float64\n",
      "BALLRAUM                 797481 non-null float64\n",
      "EWDICHTE                 797481 non-null float64\n",
      "INNENSTADT               797481 non-null float64\n",
      "GEBAEUDETYP_RASTER       798066 non-null float64\n",
      "KKK                      770025 non-null float64\n",
      "MOBI_REGIO               757897 non-null float64\n",
      "ONLINE_AFFINITAET        886367 non-null float64\n",
      "REGIOTYP                 770025 non-null float64\n",
      "KBA13_ANZAHL_PKW         785421 non-null float64\n",
      "PLZ8_ANTG1               774706 non-null float64\n",
      "PLZ8_ANTG2               774706 non-null float64\n",
      "PLZ8_ANTG3               774706 non-null float64\n",
      "PLZ8_ANTG4               774706 non-null float64\n",
      "PLZ8_BAUMAX              774706 non-null float64\n",
      "PLZ8_HHZ                 774706 non-null float64\n",
      "PLZ8_GBZ                 774706 non-null float64\n",
      "ARBEIT                   794005 non-null float64\n",
      "ORTSGR_KLS9              794005 non-null float64\n",
      "RELAT_AB                 794005 non-null float64\n",
      "dtypes: float64(49), int64(32), object(4)\n",
      "memory usage: 578.0+ MB\n"
     ]
    }
   ],
   "source": [
    "azdias.info()"
   ]
  },
  {
   "cell_type": "code",
   "execution_count": 6,
   "metadata": {},
   "outputs": [],
   "source": [
    "# create a copy to avoid touching the original df\n",
    "azdias_cleaned = azdias.copy()"
   ]
  },
  {
   "cell_type": "markdown",
   "metadata": {},
   "source": [
    "\n",
    "> **Tip**: Add additional cells to keep everything in reasonably-sized chunks! Keyboard shortcut `esc --> a` (press escape to enter command mode, then press the 'A' key) adds a new cell before the active cell, and `esc --> b` adds a new cell after the active cell. If you need to convert an active cell to a markdown cell, use `esc --> m` and to convert to a code cell, use `esc --> y`. \n",
    "\n",
    "## Step 1: Preprocessing\n",
    "\n",
    "### Step 1.1: Assess Missing Data\n",
    "\n",
    "The feature summary file contains a summary of properties for each demographics data column. You will use this file to help you make cleaning decisions during this stage of the project. First of all, you should assess the demographics data in terms of missing data. Pay attention to the following points as you perform your analysis, and take notes on what you observe. Make sure that you fill in the **Discussion** cell with your findings and decisions at the end of each step that has one!\n",
    "\n",
    "#### Step 1.1.1: Convert Missing Value Codes to NaNs\n",
    "The fourth column of the feature attributes summary (loaded in above as `feat_info`) documents the codes from the data dictionary that indicate missing or unknown data. While the file encodes this as a list (e.g. `[-1,0]`), this will get read in as a string object. You'll need to do a little bit of parsing to make use of it to identify and clean the data. Convert data that matches a 'missing' or 'unknown' value code into a numpy NaN value. You might want to see how much data takes on a 'missing' or 'unknown' code, and how much data is naturally missing, as a point of interest.\n",
    "\n",
    "**As one more reminder, you are encouraged to add additional cells to break up your analysis into manageable chunks.**"
   ]
  },
  {
   "cell_type": "code",
   "execution_count": 7,
   "metadata": {},
   "outputs": [],
   "source": [
    "# Identify missing or unknown data values and convert them to NaNs\n",
    "\n",
    "for i, row in enumerate(feat_info.itertuples()):\n",
    "    \n",
    "    encoding_list_str = str(row.missing_or_unknown)\n",
    "    encoding_list_str = re.sub('X', '\"X\"', encoding_list_str)\n",
    "    \n",
    "    encoding_list = eval(encoding_list_str)\n",
    "    \n",
    "    replace_pattern = {}\n",
    "    for encoding in encoding_list:\n",
    "        replace_pattern[encoding] = np.nan\n",
    "        \n",
    "    azdias_cleaned[row.attribute] = azdias_cleaned[row.attribute].replace(to_replace=replace_pattern)\n",
    "    \n",
    "    "
   ]
  },
  {
   "cell_type": "markdown",
   "metadata": {},
   "source": [
    "#### Step 1.1.2: Assess Missing Data in Each Column\n",
    "\n",
    "How much missing data is present in each column? There are a few columns that are outliers in terms of the proportion of values that are missing. You will want to use matplotlib's [`hist()`](https://matplotlib.org/api/_as_gen/matplotlib.pyplot.hist.html) function to visualize the distribution of missing value counts to find these columns. Identify and document these columns. While some of these columns might have justifications for keeping or re-encoding the data, for this project you should just remove them from the dataframe. (Feel free to make remarks about these outlier columns in the discussion, however!)\n",
    "\n",
    "For the remaining features, are there any patterns in which columns have, or share, missing data?"
   ]
  },
  {
   "cell_type": "code",
   "execution_count": 8,
   "metadata": {},
   "outputs": [],
   "source": [
    "# Perform an assessment of how much missing data there is in each column of the\n",
    "# dataset.\n",
    "\n",
    "# count missing values\n",
    "missing_values = []\n",
    "for column in azdias_cleaned.columns:\n",
    "    missing_values.append(azdias_cleaned[column].isnull().sum())\n",
    "\n",
    "column_names = list(azdias.columns)\n",
    "\n",
    "\n",
    "encoding_name_mapping = {encoding:name for encoding, name in enumerate(column_names)}"
   ]
  },
  {
   "cell_type": "code",
   "execution_count": 9,
   "metadata": {},
   "outputs": [
    {
     "data": {
      "image/png": "[encoded data removed]",
      "text/plain": [
       "<matplotlib.figure.Figure at 0x7f994398c438>"
      ]
     },
     "metadata": {
      "needs_background": "light"
     },
     "output_type": "display_data"
    }
   ],
   "source": [
    "plt.rcParams[\"figure.figsize\"] = (23,5);\n",
    "\n",
    "plt.bar(range(0, len(missing_values)), missing_values);\n",
    "plt.xticks(range(0, len(missing_values)));\n",
    "plt.xlabel('Feature Columns (Encoded)', fontsize=15);\n",
    "plt.ylabel('Amount of Missing Data', fontsize=15);\n",
    "plt.title('Missing Data per Column', fontsize=25);\n",
    "plt.show();"
   ]
  },
  {
   "cell_type": "code",
   "execution_count": 10,
   "metadata": {},
   "outputs": [
    {
     "name": "stdout",
     "output_type": "stream",
     "text": [
      "{0: 'AGER_TYP',\n",
      " 1: 'ALTERSKATEGORIE_GROB',\n",
      " 2: 'ANREDE_KZ',\n",
      " 3: 'CJT_GESAMTTYP',\n",
      " 4: 'FINANZ_MINIMALIST',\n",
      " 5: 'FINANZ_SPARER',\n",
      " 6: 'FINANZ_VORSORGER',\n",
      " 7: 'FINANZ_ANLEGER',\n",
      " 8: 'FINANZ_UNAUFFAELLIGER',\n",
      " 9: 'FINANZ_HAUSBAUER',\n",
      " 10: 'FINANZTYP',\n",
      " 11: 'GEBURTSJAHR',\n",
      " 12: 'GFK_URLAUBERTYP',\n",
      " 13: 'GREEN_AVANTGARDE',\n",
      " 14: 'HEALTH_TYP',\n",
      " 15: 'LP_LEBENSPHASE_FEIN',\n",
      " 16: 'LP_LEBENSPHASE_GROB',\n",
      " 17: 'LP_FAMILIE_FEIN',\n",
      " 18: 'LP_FAMILIE_GROB',\n",
      " 19: 'LP_STATUS_FEIN',\n",
      " 20: 'LP_STATUS_GROB',\n",
      " 21: 'NATIONALITAET_KZ',\n",
      " 22: 'PRAEGENDE_JUGENDJAHRE',\n",
      " 23: 'RETOURTYP_BK_S',\n",
      " 24: 'SEMIO_SOZ',\n",
      " 25: 'SEMIO_FAM',\n",
      " 26: 'SEMIO_REL',\n",
      " 27: 'SEMIO_MAT',\n",
      " 28: 'SEMIO_VERT',\n",
      " 29: 'SEMIO_LUST',\n",
      " 30: 'SEMIO_ERL',\n",
      " 31: 'SEMIO_KULT',\n",
      " 32: 'SEMIO_RAT',\n",
      " 33: 'SEMIO_KRIT',\n",
      " 34: 'SEMIO_DOM',\n",
      " 35: 'SEMIO_KAEM',\n",
      " 36: 'SEMIO_PFLICHT',\n",
      " 37: 'SEMIO_TRADV',\n",
      " 38: 'SHOPPER_TYP',\n",
      " 39: 'SOHO_KZ',\n",
      " 40: 'TITEL_KZ',\n",
      " 41: 'VERS_TYP',\n",
      " 42: 'ZABEOTYP',\n",
      " 43: 'ALTER_HH',\n",
      " 44: 'ANZ_PERSONEN',\n",
      " 45: 'ANZ_TITEL',\n",
      " 46: 'HH_EINKOMMEN_SCORE',\n",
      " 47: 'KK_KUNDENTYP',\n",
      " 48: 'W_KEIT_KIND_HH',\n",
      " 49: 'WOHNDAUER_2008',\n",
      " 50: 'ANZ_HAUSHALTE_AKTIV',\n",
      " 51: 'ANZ_HH_TITEL',\n",
      " 52: 'GEBAEUDETYP',\n",
      " 53: 'KONSUMNAEHE',\n",
      " 54: 'MIN_GEBAEUDEJAHR',\n",
      " 55: 'OST_WEST_KZ',\n",
      " 56: 'WOHNLAGE',\n",
      " 57: 'CAMEO_DEUG_2015',\n",
      " 58: 'CAMEO_DEU_2015',\n",
      " 59: 'CAMEO_INTL_2015',\n",
      " 60: 'KBA05_ANTG1',\n",
      " 61: 'KBA05_ANTG2',\n",
      " 62: 'KBA05_ANTG3',\n",
      " 63: 'KBA05_ANTG4',\n",
      " 64: 'KBA05_BAUMAX',\n",
      " 65: 'KBA05_GBZ',\n",
      " 66: 'BALLRAUM',\n",
      " 67: 'EWDICHTE',\n",
      " 68: 'INNENSTADT',\n",
      " 69: 'GEBAEUDETYP_RASTER',\n",
      " 70: 'KKK',\n",
      " 71: 'MOBI_REGIO',\n",
      " 72: 'ONLINE_AFFINITAET',\n",
      " 73: 'REGIOTYP',\n",
      " 74: 'KBA13_ANZAHL_PKW',\n",
      " 75: 'PLZ8_ANTG1',\n",
      " 76: 'PLZ8_ANTG2',\n",
      " 77: 'PLZ8_ANTG3',\n",
      " 78: 'PLZ8_ANTG4',\n",
      " 79: 'PLZ8_BAUMAX',\n",
      " 80: 'PLZ8_HHZ',\n",
      " 81: 'PLZ8_GBZ',\n",
      " 82: 'ARBEIT',\n",
      " 83: 'ORTSGR_KLS9',\n",
      " 84: 'RELAT_AB'}\n"
     ]
    }
   ],
   "source": [
    "# print mapping of encoding and column names to identify columns with high amounts of missing data\n",
    "from pprint import pprint\n",
    "pprint(encoding_name_mapping)"
   ]
  },
  {
   "cell_type": "code",
   "execution_count": 11,
   "metadata": {},
   "outputs": [],
   "source": [
    "# identifying outlier columns by calculating standard deviations (just to confirm the bar chart)\n",
    "missing_values_outliers = []\n",
    "column_names_outliers = []\n",
    "for v, c in zip(missing_values, column_names):\n",
    "    if v > np.mean(missing_values) + np.std(missing_values):\n",
    "        missing_values_outliers.append(v)\n",
    "        column_names_outliers.append(c)"
   ]
  },
  {
   "cell_type": "code",
   "execution_count": 12,
   "metadata": {},
   "outputs": [
    {
     "name": "stdout",
     "output_type": "stream",
     "text": [
      "Column: AGER_TYP; Missing Values: 685843\n",
      "Column: GEBURTSJAHR; Missing Values: 392318\n",
      "Column: TITEL_KZ; Missing Values: 889061\n",
      "Column: ALTER_HH; Missing Values: 310267\n",
      "Column: KK_KUNDENTYP; Missing Values: 584612\n",
      "Column: KBA05_BAUMAX; Missing Values: 476524\n"
     ]
    }
   ],
   "source": [
    "for n, v in zip(column_names_outliers, missing_values_outliers):\n",
    "    print('Column: {}; Missing Values: {}'.format(n, v))"
   ]
  },
  {
   "cell_type": "code",
   "execution_count": 13,
   "metadata": {},
   "outputs": [
    {
     "name": "stdout",
     "output_type": "stream",
     "text": [
      "Column: ANREDE_KZ; Missing Values: 0\n",
      "Column: FINANZ_MINIMALIST; Missing Values: 0\n",
      "Column: FINANZ_SPARER; Missing Values: 0\n",
      "Column: FINANZ_VORSORGER; Missing Values: 0\n",
      "Column: FINANZ_ANLEGER; Missing Values: 0\n",
      "Column: FINANZ_UNAUFFAELLIGER; Missing Values: 0\n",
      "Column: FINANZ_HAUSBAUER; Missing Values: 0\n",
      "Column: FINANZTYP; Missing Values: 0\n",
      "Column: GREEN_AVANTGARDE; Missing Values: 0\n",
      "Column: SEMIO_SOZ; Missing Values: 0\n",
      "Column: SEMIO_FAM; Missing Values: 0\n",
      "Column: SEMIO_REL; Missing Values: 0\n",
      "Column: SEMIO_MAT; Missing Values: 0\n",
      "Column: SEMIO_VERT; Missing Values: 0\n",
      "Column: SEMIO_LUST; Missing Values: 0\n",
      "Column: SEMIO_ERL; Missing Values: 0\n",
      "Column: SEMIO_KULT; Missing Values: 0\n",
      "Column: SEMIO_RAT; Missing Values: 0\n",
      "Column: SEMIO_KRIT; Missing Values: 0\n",
      "Column: SEMIO_DOM; Missing Values: 0\n",
      "Column: SEMIO_KAEM; Missing Values: 0\n",
      "Column: SEMIO_PFLICHT; Missing Values: 0\n",
      "Column: SEMIO_TRADV; Missing Values: 0\n",
      "Column: ZABEOTYP; Missing Values: 0\n"
     ]
    }
   ],
   "source": [
    "# Investigate patterns in the amount of missing data in each column.\n",
    "\n",
    "# Print columns containing no missing values\n",
    "for v, c in zip(missing_values, column_names):\n",
    "    if v == 0:\n",
    "        print('Column: {}; Missing Values: {}'.format(c,v))"
   ]
  },
  {
   "cell_type": "code",
   "execution_count": 14,
   "metadata": {},
   "outputs": [
    {
     "name": "stdout",
     "output_type": "stream",
     "text": [
      "Azdias df total shape: (891221, 85)\n",
      "Azdias df shape without outlier columns: (891221, 79)\n"
     ]
    }
   ],
   "source": [
    "# Remove the outlier columns from the dataset. (You'll perform other data\n",
    "# engineering tasks such as re-encoding and imputation later.)\n",
    "print('Azdias df total shape: {}'.format(azdias_cleaned.shape))\n",
    "\n",
    "azdias_cleaned = azdias_cleaned.drop(labels=column_names_outliers, axis=1)\n",
    "print('Azdias df shape without outlier columns: {}'.format(azdias_cleaned.shape))"
   ]
  },
  {
   "cell_type": "markdown",
   "metadata": {},
   "source": [
    "#### Discussion 1.1.2: Assess Missing Data in Each Column\n",
    "\n",
    "I identified the columns with especially high amounts of missing data using two approaches. At first I plotted the amount of missing data per column using a bar chart. I found that more intuitive than using a histogram. I identified the following columns as lacking especially high amounts of data: 'AGER_TYP', 'GEBURTSJAHR', 'TITEL_KZ', 'ALTER_HH', 'KK_KUNDENTYP', and 'KBA05_BAUMAX'. To confirm this I calculated standard deviations for the missing data per column. All identified columns deviate severely from the mean of missing data. The named columns were removed from the dataset.\n",
    "\n",
    "Moreover, it is noteworthy that the columns containing information about the financial typology (FINANZ_) and the personality typology (SEMIO_) do not miss any data. Most other feature columns show some substantial amount of missing data, although this is still quite reduced compared to the removed outlier columns. \n"
   ]
  },
  {
   "cell_type": "markdown",
   "metadata": {},
   "source": [
    "#### Step 1.1.3: Assess Missing Data in Each Row\n",
    "\n",
    "Now, you'll perform a similar assessment for the rows of the dataset. How much data is missing in each row? As with the columns, you should see some groups of points that have a very different numbers of missing values. Divide the data into two subsets: one for data points that are above some threshold for missing values, and a second subset for points below that threshold.\n",
    "\n",
    "In order to know what to do with the outlier rows, we should see if the distribution of data values on columns that are not missing data (or are missing very little data) are similar or different between the two groups. Select at least five of these columns and compare the distribution of values.\n",
    "- You can use seaborn's [`countplot()`](https://seaborn.pydata.org/generated/seaborn.countplot.html) function to create a bar chart of code frequencies and matplotlib's [`subplot()`](https://matplotlib.org/api/_as_gen/matplotlib.pyplot.subplot.html) function to put bar charts for the two subplots side by side.\n",
    "- To reduce repeated code, you might want to write a function that can perform this comparison, taking as one of its arguments a column to be compared.\n",
    "\n",
    "Depending on what you observe in your comparison, this will have implications on how you approach your conclusions later in the analysis. If the distributions of non-missing features look similar between the data with many missing values and the data with few or no missing values, then we could argue that simply dropping those points from the analysis won't present a major issue. On the other hand, if the data with many missing values looks very different from the data with few or no missing values, then we should make a note on those data as special. We'll revisit these data later on. **Either way, you should continue your analysis for now using just the subset of the data with few or no missing values.**"
   ]
  },
  {
   "cell_type": "code",
   "execution_count": 15,
   "metadata": {},
   "outputs": [],
   "source": [
    "# How much data is missing in each row of the dataset?\n",
    "\n",
    "#calculate missing values per row\n",
    "missing_values_per_row = azdias_cleaned.isnull().sum(axis=1).tolist()"
   ]
  },
  {
   "cell_type": "code",
   "execution_count": 16,
   "metadata": {},
   "outputs": [
    {
     "name": "stdout",
     "output_type": "stream",
     "text": [
      "Mean of missing values (per row): 5.65\n",
      "Standard deviation of missing values (per row): 13.23\n"
     ]
    }
   ],
   "source": [
    "print('Mean of missing values (per row): {}'.format(round(np.mean(missing_values_per_row),2)))\n",
    "print('Standard deviation of missing values (per row): {}'.format(round(np.std(missing_values_per_row),2)))"
   ]
  },
  {
   "cell_type": "code",
   "execution_count": 17,
   "metadata": {},
   "outputs": [
    {
     "data": {
      "image/png": "[encoded data removed]",
      "text/plain": [
       "<matplotlib.figure.Figure at 0x7f99439fc908>"
      ]
     },
     "metadata": {
      "needs_background": "light"
     },
     "output_type": "display_data"
    }
   ],
   "source": [
    "plt.hist(missing_values_per_row, bins=int(len(missing_values)/2), density=True);\n",
    "plt.xticks(range(0, len(missing_values)));\n",
    "plt.title('Distribution of Missing Values per Row', fontsize=20);\n",
    "plt.ylabel('Probability', fontsize=15);\n",
    "plt.xlabel('Amount of Missing Data', fontsize=15);\n",
    "plt.show()"
   ]
  },
  {
   "cell_type": "code",
   "execution_count": 18,
   "metadata": {},
   "outputs": [
    {
     "name": "stdout",
     "output_type": "stream",
     "text": [
      "Shape of general demographics data with few missing data: (697109, 79)\n",
      "Shape of general demographics data with much missing data: (194112, 79)\n"
     ]
    }
   ],
   "source": [
    "# Write code to divide the data into two subsets based on the number of missing\n",
    "# values in each row.\n",
    "threshold = int(np.mean(missing_values_per_row))\n",
    "\n",
    "missing_values_per_row = np.array(missing_values_per_row)\n",
    "azdias_cleaned_high = azdias_cleaned[missing_values_per_row >= threshold]\n",
    "azdias_cleaned_low = azdias_cleaned[missing_values_per_row < threshold]\n",
    "\n",
    "print('Shape of general demographics data with few missing data: {}'.format(azdias_cleaned_low.shape))\n",
    "print('Shape of general demographics data with much missing data: {}'.format(azdias_cleaned_high.shape))"
   ]
  },
  {
   "cell_type": "code",
   "execution_count": 19,
   "metadata": {},
   "outputs": [],
   "source": [
    "def create_countplots(dataset_1, dataset_2, column_name):\n",
    "    '''\n",
    "    '''\n",
    "    fig, ax = plt.subplots(1,2)\n",
    "    ax[0].set_title('Data with few missing data')\n",
    "    ax[1].set_title('Data with much missing data')\n",
    "    sns.countplot(dataset_1[column_name], ax=ax[0])\n",
    "    sns.countplot(dataset_2[column_name], ax=ax[1])"
   ]
  },
  {
   "cell_type": "code",
   "execution_count": 20,
   "metadata": {},
   "outputs": [
    {
     "data": {
      "image/png": "[encoded data removed]",
      "text/plain": [
       "<matplotlib.figure.Figure at 0x7f9939532d30>"
      ]
     },
     "metadata": {
      "needs_background": "light"
     },
     "output_type": "display_data"
    },
    {
     "data": {
      "image/png": "[encoded data removed]",
      "text/plain": [
       "<matplotlib.figure.Figure at 0x7f99284f46a0>"
      ]
     },
     "metadata": {
      "needs_background": "light"
     },
     "output_type": "display_data"
    },
    {
     "data": {
      "image/png": "[encoded data removed]",
      "text/plain": [
       "<matplotlib.figure.Figure at 0x7f992849e7b8>"
      ]
     },
     "metadata": {
      "needs_background": "light"
     },
     "output_type": "display_data"
    },
    {
     "data": {
      "image/png": "[encoded data removed]",
      "text/plain": [
       "<matplotlib.figure.Figure at 0x7f99283c6d30>"
      ]
     },
     "metadata": {
      "needs_background": "light"
     },
     "output_type": "display_data"
    },
    {
     "data": {
      "image/png": "[encoded data removed]",
      "text/plain": [
       "<matplotlib.figure.Figure at 0x7f99283925f8>"
      ]
     },
     "metadata": {
      "needs_background": "light"
     },
     "output_type": "display_data"
    }
   ],
   "source": [
    "# Compare the distribution of values for at least five columns where there are\n",
    "# no or few missing values, between the two subsets.\n",
    "columns_to_be_checked = ['KONSUMNAEHE', 'SEMIO_SOZ', 'FINANZ_ANLEGER', 'HH_EINKOMMEN_SCORE', 'ARBEIT']\n",
    "\n",
    "for column_name in columns_to_be_checked:\n",
    "    create_countplots(azdias_cleaned_low, azdias_cleaned_high, column_name)\n"
   ]
  },
  {
   "cell_type": "markdown",
   "metadata": {},
   "source": [
    "#### Discussion 1.1.3: Assess Missing Data in Each Row\n",
    "\n",
    "Calculating mean and standard deviation and plotting the distribution of missing values in a histogram show that most rows have < 5 missing values. I use the mean of the amounts of missing values as the threshold for splitting the dataset into two parts. \n",
    "\n",
    "Based on the (relatively) random subset of 5 columns, the counts show differing patterns with respect to the dataset split (low missing value vs much missing value). Some columns show a comparable distribution, while others have large differences. The data columns containing much missing data should be handled individually."
   ]
  },
  {
   "cell_type": "markdown",
   "metadata": {},
   "source": [
    "### Step 1.2: Select and Re-Encode Features\n",
    "\n",
    "Checking for missing data isn't the only way in which you can prepare a dataset for analysis. Since the unsupervised learning techniques to be used will only work on data that is encoded numerically, you need to make a few encoding changes or additional assumptions to be able to make progress. In addition, while almost all of the values in the dataset are encoded using numbers, not all of them represent numeric values. Check the third column of the feature summary (`feat_info`) for a summary of types of measurement.\n",
    "- For numeric and interval data, these features can be kept without changes.\n",
    "- Most of the variables in the dataset are ordinal in nature. While ordinal values may technically be non-linear in spacing, make the simplifying assumption that the ordinal variables can be treated as being interval in nature (that is, kept without any changes).\n",
    "- Special handling may be necessary for the remaining two variable types: categorical, and 'mixed'.\n",
    "\n",
    "In the first two parts of this sub-step, you will perform an investigation of the categorical and mixed-type features and make a decision on each of them, whether you will keep, drop, or re-encode each. Then, in the last part, you will create a new data frame with only the selected and engineered columns.\n",
    "\n",
    "Data wrangling is often the trickiest part of the data analysis process, and there's a lot of it to be done here. But stick with it: once you're done with this step, you'll be ready to get to the machine learning parts of the project!"
   ]
  },
  {
   "cell_type": "code",
   "execution_count": 21,
   "metadata": {},
   "outputs": [
    {
     "data": {
      "text/plain": [
       "ordinal        49\n",
       "categorical    21\n",
       "mixed           7\n",
       "numeric         7\n",
       "interval        1\n",
       "Name: type, dtype: int64"
      ]
     },
     "execution_count": 21,
     "metadata": {},
     "output_type": "execute_result"
    }
   ],
   "source": [
    "# How many features are there of each data type?\n",
    "feat_info['type'].value_counts()"
   ]
  },
  {
   "cell_type": "code",
   "execution_count": 22,
   "metadata": {},
   "outputs": [],
   "source": [
    "azdias_re_encoded_low = azdias_cleaned_low.copy()"
   ]
  },
  {
   "cell_type": "markdown",
   "metadata": {},
   "source": [
    "#### Step 1.2.1: Re-Encode Categorical Features\n",
    "\n",
    "For categorical data, you would ordinarily need to encode the levels as dummy variables. Depending on the number of categories, perform one of the following:\n",
    "- For binary (two-level) categoricals that take numeric values, you can keep them without needing to do anything.\n",
    "- There is one binary variable that takes on non-numeric values. For this one, you need to re-encode the values as numbers or create a dummy variable.\n",
    "- For multi-level categoricals (three or more values), you can choose to encode the values using multiple dummy variables (e.g. via [OneHotEncoder](http://scikit-learn.org/stable/modules/generated/sklearn.preprocessing.OneHotEncoder.html)), or (to keep things straightforward) just drop them from the analysis. As always, document your choices in the Discussion section."
   ]
  },
  {
   "cell_type": "code",
   "execution_count": 23,
   "metadata": {},
   "outputs": [],
   "source": [
    "categorical_columns = feat_info[feat_info['type'] == 'categorical']['attribute']\n",
    "categorical_columns = [c for c in categorical_columns if c in azdias_re_encoded_low.columns]\n",
    "azdias_re_encoded_low_categorical = azdias_re_encoded_low[categorical_columns]"
   ]
  },
  {
   "cell_type": "code",
   "execution_count": 24,
   "metadata": {},
   "outputs": [],
   "source": [
    "# categorical multi class columns \n",
    "# decisions have been made with respect to Data_Dictionary.md\n",
    "categorical_to_keep = ['CJT_GESAMTTYP', 'FINANZTYP', 'LP_FAMILIE_GROB', 'LP_STATUS_GROB', 'SHOPPER_TYP', 'CAMEO_DEUG_2015']\n",
    "categorical_to_drop = ['GFK_URLAUBERTYP', 'LP_FAMILIE_FEIN', 'LP_STATUS_FEIN', 'NATIONALITAET_KZ', 'ZABEOTYP', 'GEBAEUDETYP', 'CAMEO_DEU_2015']\n",
    "\n",
    "for categorical_column in categorical_columns:\n",
    "    # categorical binary non-numerical\n",
    "    if len(azdias_re_encoded_low_categorical[categorical_column].value_counts()) == 2:\n",
    "        if azdias_re_encoded_low_categorical[categorical_column].value_counts().index.dtype == 'O':\n",
    "            azdias_re_encoded_low.loc[azdias_re_encoded_low['OST_WEST_KZ'] == 'W', 'OST_WEST_KZ'] = 0\n",
    "            azdias_re_encoded_low.loc[azdias_re_encoded_low['OST_WEST_KZ'] == 'O', 'OST_WEST_KZ'] = 1\n",
    "    # categorical multi non-numerical\n",
    "    elif len(azdias_re_encoded_low_categorical[categorical_column].value_counts()) > 2:\n",
    "        # categories to keep \n",
    "        if categorical_column in categorical_to_keep:\n",
    "            dummy_df = pd.get_dummies(azdias_re_encoded_low[categorical_column], prefix=categorical_column)\n",
    "            azdias_re_encoded_low = pd.concat([azdias_re_encoded_low, dummy_df], axis=1)\n",
    "            azdias_re_encoded_low = azdias_re_encoded_low.drop(columns=[categorical_column])\n",
    "        # categories to drop\n",
    "        if categorical_column in categorical_to_drop:\n",
    "            azdias_re_encoded_low = azdias_re_encoded_low.drop(columns=[categorical_column])"
   ]
  },
  {
   "cell_type": "markdown",
   "metadata": {},
   "source": [
    "#### Discussion 1.2.1: Re-Encode Categorical Features\n",
    "\n",
    "I consulted Data_Dictionary.md in order to separate important categorical columns from the ones to be dropped. I decided on keeping the columns most relevant for analysing the cusomters' buying behavior. \n",
    "\n",
    "Specifically, I decided on keeping all coarse grained columns (i.e. 'LP_FAMILIE_GROB', 'LP_STATUS_GROB', 'CAMEO_DEUG_2015') as the fine grained columns are expected be too detailed for my analysis. I also kept columns refering to a person's wealth and handling of money (i.e. 'CJT_GESAMTTYP', 'FINANZTYP', 'SHOPPER_TYP'). All categorical columns with multiple non-numerical classes were removed from the dataset.\n",
    "\n",
    "Multi class columns were re-encoded using Pandas' .get_dummies method. The binary non-numerical column (i.e. 'OST_WEST_KZ') was simply re-encoded in place. "
   ]
  },
  {
   "cell_type": "markdown",
   "metadata": {},
   "source": [
    "#### Step 1.2.2: Engineer Mixed-Type Features\n",
    "\n",
    "There are a handful of features that are marked as \"mixed\" in the feature summary that require special treatment in order to be included in the analysis. There are two in particular that deserve attention; the handling of the rest are up to your own choices:\n",
    "- \"PRAEGENDE_JUGENDJAHRE\" combines information on three dimensions: generation by decade, movement (mainstream vs. avantgarde), and nation (east vs. west). While there aren't enough levels to disentangle east from west, you should create two new variables to capture the other two dimensions: an interval-type variable for decade, and a binary variable for movement.\n",
    "- \"CAMEO_INTL_2015\" combines information on two axes: wealth and life stage. Break up the two-digit codes by their 'tens'-place and 'ones'-place digits into two new ordinal variables (which, for the purposes of this project, is equivalent to just treating them as their raw numeric values).\n",
    "- If you decide to keep or engineer new features around the other mixed-type features, make sure you note your steps in the Discussion section.\n",
    "\n",
    "Be sure to check `Data_Dictionary.md` for the details needed to finish these tasks."
   ]
  },
  {
   "cell_type": "code",
   "execution_count": 25,
   "metadata": {},
   "outputs": [
    {
     "name": "stdout",
     "output_type": "stream",
     "text": [
      "['LP_LEBENSPHASE_FEIN', 'LP_LEBENSPHASE_GROB', 'PRAEGENDE_JUGENDJAHRE', 'WOHNLAGE', 'CAMEO_INTL_2015', 'PLZ8_BAUMAX']\n"
     ]
    }
   ],
   "source": [
    "mixed_columns = feat_info[feat_info['type'] == 'mixed']['attribute']\n",
    "mixed_columns = [c for c in mixed_columns if c in azdias_re_encoded_low.columns]\n",
    "print(mixed_columns)"
   ]
  },
  {
   "cell_type": "code",
   "execution_count": 26,
   "metadata": {},
   "outputs": [],
   "source": [
    "# Investigate \"PRAEGENDE_JUGENDJAHRE\" and engineer two new variables.\n",
    "youth_decade_mapping = {\n",
    "    -1 : 0, # unknown\n",
    "    0 : 0, # unknown\n",
    "    1 : 1, # 40s\n",
    "    2 : 1, # 40s\n",
    "    3 : 2, # 50s\n",
    "    4 : 2, # 50s\n",
    "    5 : 3, # 60s \n",
    "    6 : 3, # 60s\n",
    "    7 : 3, # 60s\n",
    "    8 : 4, # 70s\n",
    "    9 : 4, # 70s\n",
    "    10 : 5, # 80s\n",
    "    11 : 5, # 80s\n",
    "    12 : 5, # 80s\n",
    "    13 : 5, # 80s\n",
    "    14 : 6, # 90s\n",
    "    15 : 6 # 90s\n",
    "}\n",
    "\n",
    "azdias_re_encoded_low['PRAEGENDE_JUGENDJAHRE_DECADE'] = azdias_re_encoded_low['PRAEGENDE_JUGENDJAHRE'].map(youth_decade_mapping)\n",
    "\n",
    "youth_movement_mapping = {\n",
    "    -1 : 0, # unknown\n",
    "    0 : 0, # unknown\n",
    "    1 : 1, # mainstream\n",
    "    2 : 2, # avantgarde\n",
    "    3 : 1, # mainstream\n",
    "    4 : 2, # avantgarde\n",
    "    5 : 1, # mainstream\n",
    "    6 : 2, # avantgarde\n",
    "    7 : 2, # avantgarde\n",
    "    8 : 1, # mainstream\n",
    "    9 : 2, # avantgarde\n",
    "    10 : 1, # mainstream\n",
    "    11 : 2, # avantgarde\n",
    "    12 : 1, # mainstream\n",
    "    13 : 2, # avantgarde\n",
    "    14 : 1, # mainstream\n",
    "    15 : 2 # avantgarde\n",
    "}\n",
    "\n",
    "azdias_re_encoded_low['PRAEGENDE_JUGENDJAHRE_MOVEMENT'] = azdias_re_encoded_low['PRAEGENDE_JUGENDJAHRE'].map(youth_movement_mapping)\n"
   ]
  },
  {
   "cell_type": "code",
   "execution_count": 27,
   "metadata": {},
   "outputs": [],
   "source": [
    "# Investigate \"CAMEO_INTL_2015\" and engineer two new variables.\n",
    "\n",
    "wealth_mapping = {\n",
    "    -1 : 0, # unknown\n",
    "    11 : 1, # wealthy\n",
    "    12 : 1, # wealthy\n",
    "    13 : 1, # wealthy\n",
    "    15 : 1, # wealthy\n",
    "    21 : 2, # prosperous\n",
    "    22 : 2, # prosperous\n",
    "    23 : 2, # prosperous\n",
    "    24 : 2, # prosperous\n",
    "    25 : 2, # prosperous\n",
    "    31 : 3, # comfortable\n",
    "    32 : 3, # comfortable\n",
    "    33 : 3, # comfortable\n",
    "    34 : 3, # comfortable\n",
    "    35 : 3, # comfortable\n",
    "    41 : 4, # less affluent\n",
    "    42 : 4, # less affluent \n",
    "    43 : 4, # less affluent \n",
    "    44 : 4, # less affluent\n",
    "    45 : 4, # less affluent\n",
    "    51 : 5, # poorer \n",
    "    52 : 5, # poorer \n",
    "    53 : 5, # poorer \n",
    "    54 : 5, # poorer \n",
    "    55 : 5, # poorer \n",
    "    'XX' : 0 # unknown\n",
    "}\n",
    "\n",
    "azdias_re_encoded_low['CAMEO_INTL_2015_WEALTH'] = azdias_re_encoded_low['CAMEO_INTL_2015'].map(wealth_mapping)\n",
    "\n",
    "\n",
    "life_stage_mapping = {\n",
    "    -1 : 0, # unknown\n",
    "    11 : 1, # Pre-Family Couples & Singles\n",
    "    12 : 2, # Young Couples With Children\n",
    "    13 : 3, # Families With School Age Children\n",
    "    14 : 4, # Older Families &  Mature Couples\n",
    "    15 : 5, # Elders In Retirement\n",
    "    21 : 1, # Pre-Family Couples & Singles\n",
    "    22 : 2, # Young Couples With Children\n",
    "    23 : 3, # Families With School Age Children\n",
    "    24 : 4, # Older Families &  Mature Couples\n",
    "    25 : 5, # Elders In Retirement\n",
    "    31 : 1, # Pre-Family Couples & Singles\n",
    "    32 : 2, # Young Couples With Children\n",
    "    33 : 3, # Families With School Age Children\n",
    "    34 : 4, # Older Families &  Mature Couples\n",
    "    35 : 5, # Elders In Retirement\n",
    "    41 : 1, # Pre-Family Couples & Singles\n",
    "    42 : 2, # Young Couples With Children\n",
    "    43 : 3, # Families With School Age Children\n",
    "    44 : 4, # Older Families &  Mature Couples\n",
    "    45 : 5, # Elders In Retirement\n",
    "    51 : 1, # Pre-Family Couples & Singles\n",
    "    52 : 2, # Young Couples With Children\n",
    "    53 : 3, # Families With School Age Children\n",
    "    54 : 4, # Older Families &  Mature Couples\n",
    "    55 : 5, # Elders In Retirement\n",
    "    'XX' : 0 # unknown \n",
    "}\n",
    "\n",
    "azdias_re_encoded_low['CAMEO_INTL_2015_LIFE_STAGE'] = azdias_re_encoded_low['CAMEO_INTL_2015'].map(life_stage_mapping)"
   ]
  },
  {
   "cell_type": "markdown",
   "metadata": {},
   "source": [
    "#### Discussion 1.2.2: Engineer Mixed-Type Features\n",
    "\n",
    "I separated the information given in 'CAMEO_INTL_2015' and 'PRAEGENDE_JUGENDJAHRE' using a simple mapping containing the respective classes and new encodings. Afterwards, the mixed-type columns were dropped.\n",
    "\n",
    "I also decided against using the other mixed-type columns as no new important information could be gathered from these. 'LP_LEBENSPHASE_FEIN' and 'LP_LEBENSPHASE_GROB' contained information about life stages, which were already contained in 'CAMEO_INTL_2015'. 'PLZ8_BAUMAX' does contain information that I consider unlikely to help solving this task. \n",
    "\n",
    "I decided on keeping 'WOHNLAGE' as this variable is probably linked to income and could help clustering the dataset. However I did not consider it necessary to split the column into more feature types. "
   ]
  },
  {
   "cell_type": "markdown",
   "metadata": {},
   "source": [
    "#### Step 1.2.3: Complete Feature Selection\n",
    "\n",
    "In order to finish this step up, you need to make sure that your data frame now only has the columns that you want to keep. To summarize, the dataframe should consist of the following:\n",
    "- All numeric, interval, and ordinal type columns from the original dataset.\n",
    "- Binary categorical features (all numerically-encoded).\n",
    "- Engineered features from other multi-level categorical features and mixed features.\n",
    "\n",
    "Make sure that for any new columns that you have engineered, that you've excluded the original columns from the final dataset. Otherwise, their values will interfere with the analysis later on the project. For example, you should not keep \"PRAEGENDE_JUGENDJAHRE\", since its values won't be useful for the algorithm: only the values derived from it in the engineered features you created should be retained. As a reminder, your data should only be from **the subset with few or no missing values**."
   ]
  },
  {
   "cell_type": "code",
   "execution_count": 28,
   "metadata": {},
   "outputs": [],
   "source": [
    "# If there are other re-engineering tasks you need to perform, make sure you\n",
    "# take care of them here. (Dealing with missing data will come in step 2.1.)\n",
    "\n"
   ]
  },
  {
   "cell_type": "code",
   "execution_count": 29,
   "metadata": {},
   "outputs": [],
   "source": [
    "# Do whatever you need to in order to ensure that the dataframe only contains\n",
    "# the columns that should be passed to the algorithm functions.\n",
    "\n",
    "mixed_columns_to_drop = ['LP_LEBENSPHASE_FEIN', 'LP_LEBENSPHASE_GROB', 'PRAEGENDE_JUGENDJAHRE', 'CAMEO_INTL_2015', 'PLZ8_BAUMAX']\n",
    "\n",
    "azdias_re_encoded_low = azdias_re_encoded_low.drop(columns=mixed_columns_to_drop)"
   ]
  },
  {
   "cell_type": "markdown",
   "metadata": {},
   "source": [
    "### Step 1.3: Create a Cleaning Function\n",
    "\n",
    "Even though you've finished cleaning up the general population demographics data, it's important to look ahead to the future and realize that you'll need to perform the same cleaning steps on the customer demographics data. In this substep, complete the function below to execute the main feature selection, encoding, and re-engineering steps you performed above. Then, when it comes to looking at the customer data in Step 3, you can just run this function on that DataFrame to get the trimmed dataset in a single step."
   ]
  },
  {
   "cell_type": "code",
   "execution_count": 95,
   "metadata": {},
   "outputs": [],
   "source": [
    "def clean_data(df, feat_info):\n",
    "    \"\"\"\n",
    "    Perform feature trimming, re-encoding, and engineering for demographics\n",
    "    data\n",
    "    \n",
    "    INPUT: Demographics DataFrame\n",
    "    OUTPUT: Trimmed and cleaned demographics DataFrame\n",
    "    \"\"\"\n",
    "    \n",
    "    # Put in code here to execute all main cleaning steps:\n",
    "    # convert missing value codes into NaNs, ...\n",
    "    df_copy = df.copy()\n",
    "    print('DF shape: {}'.format(df_copy.shape))\n",
    "    \n",
    "    for i, row in enumerate(feat_info.itertuples()):\n",
    "    \n",
    "        encoding_list_str = str(row.missing_or_unknown)\n",
    "        encoding_list_str = re.sub('X', '\"X\"', encoding_list_str)\n",
    "    \n",
    "        encoding_list = eval(encoding_list_str)\n",
    "    \n",
    "        replace_pattern = {}\n",
    "        for encoding in encoding_list:\n",
    "            replace_pattern[encoding] = np.nan\n",
    "        \n",
    "        df_copy[row.attribute] = df_copy[row.attribute].replace(to_replace=replace_pattern)\n",
    "    \n",
    "    # remove selected columns and rows, ...\n",
    "    \n",
    "    # columns\n",
    "    missing_values = []\n",
    "    for column in df_copy.columns:\n",
    "        missing_values.append(df_copy[column].isnull().sum())\n",
    "\n",
    "    column_names = list(df_copy.columns)\n",
    "\n",
    "    missing_values_outliers = []\n",
    "    column_names_outliers = []\n",
    "    for v, c in zip(missing_values, column_names):\n",
    "        if v > np.mean(missing_values) + np.std(missing_values):\n",
    "            missing_values_outliers.append(v)\n",
    "            column_names_outliers.append(c)\n",
    "    print('Outlier columns:')\n",
    "    for n, v in zip(column_names_outliers, missing_values_outliers):\n",
    "        print('Column: {}; Missing Values: {}'.format(n, v))\n",
    "    \n",
    "    df_copy = df_copy.drop(labels=column_names_outliers, axis=1)\n",
    "    print('DF shape without outlier columns: {}'.format(df_copy.shape))\n",
    "    \n",
    "    # rows\n",
    "    missing_values_per_row = df_copy.isnull().sum(axis=1).tolist()\n",
    "    \n",
    "    threshold = int(np.mean(missing_values_per_row))\n",
    "\n",
    "    missing_values_per_row = np.array(missing_values_per_row)\n",
    "    df_copy_high = df_copy[missing_values_per_row >= threshold]\n",
    "    df_copy_low = df_copy[missing_values_per_row < threshold] # kept for further processing\n",
    "    print('DF shape without outlier rows: {}'.format(df_copy_low.shape))\n",
    "    \n",
    "    # select, re-encode, and engineer column values.\n",
    "    \n",
    "    # categorical\n",
    "    categorical_columns = feat_info[feat_info['type'] == 'categorical']['attribute']\n",
    "    categorical_columns = [c for c in categorical_columns if c in df_copy_low.columns]\n",
    "    df_copy_low_categorical = df_copy_low[categorical_columns]\n",
    "    \n",
    "    categorical_to_keep = ['CJT_GESAMTTYP', 'FINANZTYP', 'LP_FAMILIE_GROB', 'LP_STATUS_GROB', 'SHOPPER_TYP', 'CAMEO_DEUG_2015']\n",
    "    categorical_to_drop = ['GFK_URLAUBERTYP', 'LP_FAMILIE_FEIN', 'LP_STATUS_FEIN', 'NATIONALITAET_KZ', 'ZABEOTYP', 'GEBAEUDETYP', 'CAMEO_DEU_2015']\n",
    "\n",
    "    for categorical_column in categorical_columns:\n",
    "        # categorical binary non-numerical\n",
    "        if len(df_copy_low_categorical[categorical_column].value_counts()) == 2:\n",
    "            if df_copy_low_categorical[categorical_column].value_counts().index.dtype == 'O':\n",
    "                df_copy_low.loc[df_copy_low['OST_WEST_KZ'] == 'W', 'OST_WEST_KZ'] = 0\n",
    "                df_copy_low.loc[df_copy_low['OST_WEST_KZ'] == 'O', 'OST_WEST_KZ'] = 1\n",
    "        # categorical multi non-numerical\n",
    "        elif len(df_copy_low_categorical[categorical_column].value_counts()) > 2:\n",
    "            # categories to keep \n",
    "            if categorical_column in categorical_to_keep:\n",
    "                dummy_df = pd.get_dummies(df_copy_low[categorical_column], prefix=categorical_column)\n",
    "                df_copy_low = pd.concat([df_copy_low, dummy_df], axis=1)\n",
    "                df_copy_low = df_copy_low.drop(columns=[categorical_column])\n",
    "            # categories to drop\n",
    "            if categorical_column in categorical_to_drop:\n",
    "                df_copy_low = df_copy_low.drop(columns=[categorical_column])\n",
    "    \n",
    "    # mixed\n",
    "    youth_decade_mapping = {\n",
    "        -1 : 0, # unknown\n",
    "        0 : 0, # unknown\n",
    "        1 : 1, # 40s\n",
    "        2 : 1, # 40s\n",
    "        3 : 2, # 50s\n",
    "        4 : 2, # 50s\n",
    "        5 : 3, # 60s \n",
    "        6 : 3, # 60s\n",
    "        7 : 3, # 60s\n",
    "        8 : 4, # 70s\n",
    "        9 : 4, # 70s\n",
    "        10 : 5, # 80s\n",
    "        11 : 5, # 80s\n",
    "        12 : 5, # 80s\n",
    "        13 : 5, # 80s\n",
    "        14 : 6, # 90s\n",
    "        15 : 6 # 90s\n",
    "    }\n",
    "\n",
    "    df_copy_low['PRAEGENDE_JUGENDJAHRE_DECADE'] = df_copy_low['PRAEGENDE_JUGENDJAHRE'].map(youth_decade_mapping)\n",
    "\n",
    "    youth_movement_mapping = {\n",
    "        -1 : 0, # unknown\n",
    "        0 : 0, # unknown\n",
    "        1 : 1, # mainstream\n",
    "        2 : 2, # avantgarde\n",
    "        3 : 1, # mainstream\n",
    "        4 : 2, # avantgarde\n",
    "        5 : 1, # mainstream\n",
    "        6 : 2, # avantgarde\n",
    "        7 : 2, # avantgarde\n",
    "        8 : 1, # mainstream\n",
    "        9 : 2, # avantgarde\n",
    "        10 : 1, # mainstream\n",
    "        11 : 2, # avantgarde\n",
    "        12 : 1, # mainstream\n",
    "        13 : 2, # avantgarde\n",
    "        14 : 1, # mainstream\n",
    "        15 : 2 # avantgarde\n",
    "    }\n",
    "\n",
    "    df_copy_low['PRAEGENDE_JUGENDJAHRE_MOVEMENT'] = df_copy_low['PRAEGENDE_JUGENDJAHRE'].map(youth_movement_mapping)\n",
    "    \n",
    "   \n",
    "    wealth_mapping = {\n",
    "        -1 : 0, # unknown\n",
    "        11 : 1, # wealthy\n",
    "        12 : 1, # wealthy\n",
    "        13 : 1, # wealthy\n",
    "        15 : 1, # wealthy\n",
    "        21 : 2, # prosperous\n",
    "        22 : 2, # prosperous\n",
    "        23 : 2, # prosperous\n",
    "        24 : 2, # prosperous\n",
    "        25 : 2, # prosperous\n",
    "        31 : 3, # comfortable\n",
    "        32 : 3, # comfortable\n",
    "        33 : 3, # comfortable\n",
    "        34 : 3, # comfortable\n",
    "        35 : 3, # comfortable\n",
    "        41 : 4, # less affluent\n",
    "        42 : 4, # less affluent \n",
    "        43 : 4, # less affluent \n",
    "        44 : 4, # less affluent\n",
    "        45 : 4, # less affluent\n",
    "        51 : 5, # poorer \n",
    "        52 : 5, # poorer \n",
    "        53 : 5, # poorer \n",
    "        54 : 5, # poorer \n",
    "        55 : 5, # poorer \n",
    "        'XX' : 0 # unknown\n",
    "    }\n",
    "\n",
    "    df_copy_low['CAMEO_INTL_2015_WEALTH'] = df_copy_low['CAMEO_INTL_2015'].map(wealth_mapping)\n",
    "\n",
    "    life_stage_mapping = {\n",
    "        -1 : 0, # unknown\n",
    "        11 : 1, # Pre-Family Couples & Singles\n",
    "        12 : 2, # Young Couples With Children\n",
    "        13 : 3, # Families With School Age Children\n",
    "        14 : 4, # Older Families &  Mature Couples\n",
    "        15 : 5, # Elders In Retirement\n",
    "        21 : 1, # Pre-Family Couples & Singles\n",
    "        22 : 2, # Young Couples With Children\n",
    "        23 : 3, # Families With School Age Children\n",
    "        24 : 4, # Older Families &  Mature Couples\n",
    "        25 : 5, # Elders In Retirement\n",
    "        31 : 1, # Pre-Family Couples & Singles\n",
    "        32 : 2, # Young Couples With Children\n",
    "        33 : 3, # Families With School Age Children\n",
    "        34 : 4, # Older Families &  Mature Couples\n",
    "        35 : 5, # Elders In Retirement\n",
    "        41 : 1, # Pre-Family Couples & Singles\n",
    "        42 : 2, # Young Couples With Children\n",
    "        43 : 3, # Families With School Age Children\n",
    "        44 : 4, # Older Families &  Mature Couples\n",
    "        45 : 5, # Elders In Retirement\n",
    "        51 : 1, # Pre-Family Couples & Singles\n",
    "        52 : 2, # Young Couples With Children\n",
    "        53 : 3, # Families With School Age Children\n",
    "        54 : 4, # Older Families &  Mature Couples\n",
    "        55 : 5, # Elders In Retirement\n",
    "        'XX' : 0 # unknown \n",
    "    }\n",
    "\n",
    "    df_copy_low['CAMEO_INTL_2015_LIFE_STAGE'] = df_copy_low['CAMEO_INTL_2015'].map(life_stage_mapping)\n",
    "    \n",
    "    \n",
    "    mixed_columns_to_drop = ['LP_LEBENSPHASE_FEIN', 'LP_LEBENSPHASE_GROB', 'PRAEGENDE_JUGENDJAHRE', 'CAMEO_INTL_2015', 'PLZ8_BAUMAX']\n",
    "\n",
    "    df_copy_low = df_copy_low.drop(columns=mixed_columns_to_drop)\n",
    "    \n",
    "    \n",
    "    # Return the cleaned dataframe.\n",
    "    return df_copy_low, df_copy_high\n",
    "    \n",
    "    "
   ]
  },
  {
   "cell_type": "markdown",
   "metadata": {},
   "source": [
    "## Step 2: Feature Transformation\n",
    "\n",
    "### Step 2.1: Apply Feature Scaling\n",
    "\n",
    "Before we apply dimensionality reduction techniques to the data, we need to perform feature scaling so that the principal component vectors are not influenced by the natural differences in scale for features. Starting from this part of the project, you'll want to keep an eye on the [API reference page for sklearn](http://scikit-learn.org/stable/modules/classes.html) to help you navigate to all of the classes and functions that you'll need. In this substep, you'll need to check the following:\n",
    "\n",
    "- sklearn requires that data not have missing values in order for its estimators to work properly. So, before applying the scaler to your data, make sure that you've cleaned the DataFrame of the remaining missing values. This can be as simple as just removing all data points with missing data, or applying an [Imputer](http://scikit-learn.org/stable/modules/generated/sklearn.preprocessing.Imputer.html) to replace all missing values. You might also try a more complicated procedure where you temporarily remove missing values in order to compute the scaling parameters before re-introducing those missing values and applying imputation. Think about how much missing data you have and what possible effects each approach might have on your analysis, and justify your decision in the discussion section below.\n",
    "- For the actual scaling function, a [StandardScaler](http://scikit-learn.org/stable/modules/generated/sklearn.preprocessing.StandardScaler.html) instance is suggested, scaling each feature to mean 0 and standard deviation 1.\n",
    "- For these classes, you can make use of the `.fit_transform()` method to both fit a procedure to the data as well as apply the transformation to the data at the same time. Don't forget to keep the fit sklearn objects handy, since you'll be applying them to the customer demographics data towards the end of the project."
   ]
  },
  {
   "cell_type": "code",
   "execution_count": 31,
   "metadata": {},
   "outputs": [],
   "source": [
    "azdias_scaled = azdias_re_encoded_low.copy()"
   ]
  },
  {
   "cell_type": "code",
   "execution_count": 32,
   "metadata": {},
   "outputs": [],
   "source": [
    "# If you've not yet cleaned the dataset of all NaN values, then investigate and\n",
    "# do that now.\n",
    "imputer = Imputer(axis=1, strategy='most_frequent')\n",
    "azdias_scaled = imputer.fit_transform(azdias_scaled)"
   ]
  },
  {
   "cell_type": "code",
   "execution_count": 33,
   "metadata": {},
   "outputs": [],
   "source": [
    "# Apply feature scaling to the general population demographics data.\n",
    "scaler = StandardScaler()\n",
    "azdias_scaled = scaler.fit_transform(azdias_scaled)"
   ]
  },
  {
   "cell_type": "markdown",
   "metadata": {},
   "source": [
    "### Discussion 2.1: Apply Feature Scaling\n",
    "\n",
    "(Double-click this cell and replace this text with your own text, reporting your decisions regarding feature scaling.)\n",
    "\n",
    "I decided on imputing the most frequent value of a column for missing values in the data frame as most columns have a substantial amount of missing data. Using the mean or median would not make sense as many columns contain categorical data. \n",
    "\n",
    "For scaling, I used the StandardScaler, which scales the data to mean of 0 and standard deviation of 1."
   ]
  },
  {
   "cell_type": "markdown",
   "metadata": {},
   "source": [
    "### Step 2.2: Perform Dimensionality Reduction\n",
    "\n",
    "On your scaled data, you are now ready to apply dimensionality reduction techniques.\n",
    "\n",
    "- Use sklearn's [PCA](http://scikit-learn.org/stable/modules/generated/sklearn.decomposition.PCA.html) class to apply principal component analysis on the data, thus finding the vectors of maximal variance in the data. To start, you should not set any parameters (so all components are computed) or set a number of components that is at least half the number of features (so there's enough features to see the general trend in variability).\n",
    "- Check out the ratio of variance explained by each principal component as well as the cumulative variance explained. Try plotting the cumulative or sequential values using matplotlib's [`plot()`](https://matplotlib.org/api/_as_gen/matplotlib.pyplot.plot.html) function. Based on what you find, select a value for the number of transformed features you'll retain for the clustering part of the project.\n",
    "- Once you've made a choice for the number of components to keep, make sure you re-fit a PCA instance to perform the decided-on transformation."
   ]
  },
  {
   "cell_type": "code",
   "execution_count": 34,
   "metadata": {},
   "outputs": [],
   "source": [
    "# Apply PCA to the data.\n",
    "pca_explorative = PCA()\n",
    "pca_azdias_explorative = pca_explorative.fit_transform(azdias_scaled)\n"
   ]
  },
  {
   "cell_type": "code",
   "execution_count": 35,
   "metadata": {},
   "outputs": [
    {
     "name": "stdout",
     "output_type": "stream",
     "text": [
      "AZDIAS dimensions: (697109, 100)\n",
      "PCA dimensions: (697109, 100)\n"
     ]
    }
   ],
   "source": [
    "print('AZDIAS dimensions: {}'.format(azdias_scaled.shape))\n",
    "print('PCA dimensions: {}'.format(pca_azdias_explorative.shape))"
   ]
  },
  {
   "cell_type": "code",
   "execution_count": 36,
   "metadata": {},
   "outputs": [],
   "source": [
    "# Investigate the variance accounted for by each principal component.\n",
    "ratios = pca_explorative.explained_variance_ratio_\n",
    "cum_ratios = np.cumsum(ratios)\n",
    "ind = np.arange(pca_azdias_explorative.shape[1])"
   ]
  },
  {
   "cell_type": "code",
   "execution_count": 37,
   "metadata": {},
   "outputs": [
    {
     "data": {
      "image/png": "[encoded data removed]",
      "text/plain": [
       "<matplotlib.figure.Figure at 0x7f9939532828>"
      ]
     },
     "metadata": {
      "needs_background": "light"
     },
     "output_type": "display_data"
    }
   ],
   "source": [
    "# Plot variance \n",
    "plt.plot(ind, cum_ratios);\n",
    "plt.axhline(0.8, color='r', alpha=0.5, linestyle='--');\n",
    "plt.axhline(0.9, color='r', alpha=0.5, linestyle='--');\n",
    "plt.xlabel('Components');\n",
    "plt.ylabel('Variance explained');\n",
    "plt.show();"
   ]
  },
  {
   "cell_type": "code",
   "execution_count": 38,
   "metadata": {},
   "outputs": [],
   "source": [
    "# Re-apply PCA to the data while selecting for number of components to retain.\n",
    "pca = PCA(n_components=50)\n",
    "pca_azdias = pca.fit_transform(azdias_scaled)\n"
   ]
  },
  {
   "cell_type": "markdown",
   "metadata": {},
   "source": [
    "### Discussion 2.2: Perform Dimensionality Reduction\n",
    "\n",
    "I performed PCA using the whole dataset and plotted the cumulative variance ratios. The plot shows that using 40 PCA components already covers more than 80% of variance in the data. Using 50 components covers about 90% of variance. For the clustering approach I performed PCA again using 50 components. "
   ]
  },
  {
   "cell_type": "markdown",
   "metadata": {},
   "source": [
    "### Step 2.3: Interpret Principal Components\n",
    "\n",
    "Now that we have our transformed principal components, it's a nice idea to check out the weight of each variable on the first few components to see if they can be interpreted in some fashion.\n",
    "\n",
    "As a reminder, each principal component is a unit vector that points in the direction of highest variance (after accounting for the variance captured by earlier principal components). The further a weight is from zero, the more the principal component is in the direction of the corresponding feature. If two features have large weights of the same sign (both positive or both negative), then increases in one tend expect to be associated with increases in the other. To contrast, features with different signs can be expected to show a negative correlation: increases in one variable should result in a decrease in the other.\n",
    "\n",
    "- To investigate the features, you should map each weight to their corresponding feature name, then sort the features according to weight. The most interesting features for each principal component, then, will be those at the beginning and end of the sorted list. Use the data dictionary document to help you understand these most prominent features, their relationships, and what a positive or negative value on the principal component might indicate.\n",
    "- You should investigate and interpret feature associations from the first three principal components in this substep. To help facilitate this, you should write a function that you can call at any time to print the sorted list of feature weights, for the *i*-th principal component. This might come in handy in the next step of the project, when you interpret the tendencies of the discovered clusters."
   ]
  },
  {
   "cell_type": "code",
   "execution_count": 39,
   "metadata": {},
   "outputs": [],
   "source": [
    "def print_component_weights(pca, comp_n, feature_names):\n",
    "    if comp_n <= len(pca.components_):\n",
    "        component_weights = pd.DataFrame({'weights': pca.components_[comp_n]}, index=feature_names)\n",
    "        \n",
    "        print('Most weighted features for component: {} '.format(comp_n))\n",
    "        print(component_weights.sort_values(by=['weights']).head(5))\n",
    "        print(component_weights.sort_values(by=['weights']).tail(5))"
   ]
  },
  {
   "cell_type": "code",
   "execution_count": 40,
   "metadata": {},
   "outputs": [],
   "source": [
    "azdias_scaled_columns = pd.DataFrame(azdias_re_encoded_low).columns"
   ]
  },
  {
   "cell_type": "code",
   "execution_count": 41,
   "metadata": {},
   "outputs": [
    {
     "name": "stdout",
     "output_type": "stream",
     "text": [
      "Most weighted features for component: 0 \n",
      "                    weights\n",
      "MOBI_REGIO        -0.223625\n",
      "FINANZ_MINIMALIST -0.216891\n",
      "KBA05_ANTG1       -0.208378\n",
      "PLZ8_ANTG1        -0.201333\n",
      "KBA05_GBZ         -0.200497\n",
      "                     weights\n",
      "ORTSGR_KLS9         0.176767\n",
      "HH_EINKOMMEN_SCORE  0.191483\n",
      "PLZ8_ANTG4          0.195450\n",
      "PLZ8_ANTG3          0.202611\n",
      "LP_STATUS_GROB_1.0  0.210151\n"
     ]
    }
   ],
   "source": [
    "# Map weights for the first principal component to corresponding feature names\n",
    "# and then print the linked values, sorted by weight.\n",
    "# HINT: Try defining a function here or in a new cell that you can reuse in the\n",
    "# other cells.\n",
    "print_component_weights(pca, 0, azdias_scaled_columns)\n"
   ]
  },
  {
   "cell_type": "code",
   "execution_count": 42,
   "metadata": {},
   "outputs": [
    {
     "name": "stdout",
     "output_type": "stream",
     "text": [
      "Most weighted features for component: 1 \n",
      "                               weights\n",
      "PRAEGENDE_JUGENDJAHRE_DECADE -0.240411\n",
      "SEMIO_REL                    -0.232773\n",
      "FINANZ_SPARER                -0.223126\n",
      "FINANZ_UNAUFFAELLIGER        -0.217610\n",
      "SEMIO_PFLICHT                -0.211653\n",
      "                       weights\n",
      "RETOURTYP_BK_S        0.160765\n",
      "SEMIO_LUST            0.168044\n",
      "SEMIO_ERL             0.204734\n",
      "FINANZ_VORSORGER      0.218433\n",
      "ALTERSKATEGORIE_GROB  0.235362\n"
     ]
    }
   ],
   "source": [
    "# Map weights for the second principal component to corresponding feature names\n",
    "# and then print the linked values, sorted by weight.\n",
    "print_component_weights(pca, 1, azdias_scaled_columns)\n"
   ]
  },
  {
   "cell_type": "code",
   "execution_count": 43,
   "metadata": {},
   "outputs": [
    {
     "name": "stdout",
     "output_type": "stream",
     "text": [
      "Most weighted features for component: 2 \n",
      "             weights\n",
      "ANREDE_KZ  -0.356453\n",
      "SEMIO_KAEM -0.327019\n",
      "SEMIO_DOM  -0.298577\n",
      "SEMIO_KRIT -0.263971\n",
      "SEMIO_RAT  -0.188112\n",
      "              weights\n",
      "FINANZTYP_5  0.144519\n",
      "SEMIO_KULT   0.238879\n",
      "SEMIO_FAM    0.254868\n",
      "SEMIO_SOZ    0.259989\n",
      "SEMIO_VERT   0.332581\n"
     ]
    }
   ],
   "source": [
    "# Map weights for the third principal component to corresponding feature names\n",
    "# and then print the linked values, sorted by weight.\n",
    "print_component_weights(pca, 2, azdias_scaled_columns)\n"
   ]
  },
  {
   "cell_type": "markdown",
   "metadata": {},
   "source": [
    "### Discussion 2.3: Interpret Principal Components\n",
    "\n",
    "It seems possible to interpret the first principal components:\n",
    "\n",
    "1. The first component seems to focus on finances and living conditions which are of course interrelated. Negative weights are focusing on features dealing with better situated people (e.g. rate of building housing only a few families). Positive values are focusing on features dealing with less well situated people (e.g. rate of buildings housing many families, low income status). \n",
    "\n",
    "2. The second component is more focusing on personality. Negative weights seem to circle around 'reliable' traits (e.g. dutiful) and conservative purchase behavior (e.g. inconspicious and saving behavior). Positive weights circle around more extroverted traits (e.g. event orientation, sensual mind). \n",
    "\n",
    "3. The thirs component again focuses around personality. A nice split between negative and positive weights is possible again. Negative values circle around stereotypical masculin traits (e.g. combative, dominant, critical, rational). Positive weights circle around stereotypical feminin traits (e.g. cultural-minded, family-minded, social, dreamful).  "
   ]
  },
  {
   "cell_type": "markdown",
   "metadata": {},
   "source": [
    "## Step 3: Clustering\n",
    "\n",
    "### Step 3.1: Apply Clustering to General Population\n",
    "\n",
    "You've assessed and cleaned the demographics data, then scaled and transformed them. Now, it's time to see how the data clusters in the principal components space. In this substep, you will apply k-means clustering to the dataset and use the average within-cluster distances from each point to their assigned cluster's centroid to decide on a number of clusters to keep.\n",
    "\n",
    "- Use sklearn's [KMeans](http://scikit-learn.org/stable/modules/generated/sklearn.cluster.KMeans.html#sklearn.cluster.KMeans) class to perform k-means clustering on the PCA-transformed data.\n",
    "- Then, compute the average difference from each point to its assigned cluster's center. **Hint**: The KMeans object's `.score()` method might be useful here, but note that in sklearn, scores tend to be defined so that larger is better. Try applying it to a small, toy dataset, or use an internet search to help your understanding.\n",
    "- Perform the above two steps for a number of different cluster counts. You can then see how the average distance decreases with an increasing number of clusters. However, each additional cluster provides a smaller net benefit. Use this fact to select a final number of clusters in which to group the data. **Warning**: because of the large size of the dataset, it can take a long time for the algorithm to resolve. The more clusters to fit, the longer the algorithm will take. You should test for cluster counts through at least 10 clusters to get the full picture, but you shouldn't need to test for a number of clusters above about 30.\n",
    "- Once you've selected a final number of clusters to use, re-fit a KMeans instance to perform the clustering operation. Make sure that you also obtain the cluster assignments for the general demographics data, since you'll be using them in the final Step 3.3."
   ]
  },
  {
   "cell_type": "code",
   "execution_count": 44,
   "metadata": {},
   "outputs": [
    {
     "name": "stdout",
     "output_type": "stream",
     "text": [
      "Train k-means for k = 10\n",
      "Train k-means for k = 11\n",
      "Train k-means for k = 12\n",
      "Train k-means for k = 13\n",
      "Train k-means for k = 14\n",
      "Train k-means for k = 15\n",
      "Train k-means for k = 16\n",
      "Train k-means for k = 17\n",
      "Train k-means for k = 18\n",
      "Train k-means for k = 19\n",
      "Train k-means for k = 20\n",
      "Train k-means for k = 21\n",
      "Train k-means for k = 22\n",
      "Train k-means for k = 23\n",
      "Train k-means for k = 24\n",
      "Train k-means for k = 25\n",
      "Train k-means for k = 26\n",
      "Train k-means for k = 27\n",
      "Train k-means for k = 28\n",
      "Train k-means for k = 29\n",
      "Train k-means for k = 30\n"
     ]
    }
   ],
   "source": [
    "# Over a number of different cluster counts...\n",
    "cluster_n = list(range(10,31))\n",
    "dist_scores = []\n",
    "for n in cluster_n:\n",
    "    print('Train k-means for k = {}'.format(n))\n",
    "    # run k-means clustering on the data and...\n",
    "    k_means = KMeans(n_clusters=n).fit(pca_azdias)\n",
    "    \n",
    "    # compute the average within-cluster distances.\n",
    "    #dist_scores.append(abs(k_means.score(pca_azdias)))\n",
    "    dist_scores.append(k_means.inertia_)"
   ]
  },
  {
   "cell_type": "code",
   "execution_count": 45,
   "metadata": {},
   "outputs": [
    {
     "data": {
      "image/png": "[encoded data removed]",
      "text/plain": [
       "<matplotlib.figure.Figure at 0x7f83e257e400>"
      ]
     },
     "metadata": {
      "needs_background": "light"
     },
     "output_type": "display_data"
    }
   ],
   "source": [
    "# Investigate the change in within-cluster distance across number of clusters.\n",
    "# HINT: Use matplotlib's plot function to visualize this relationship.\n",
    "plt.plot(cluster_n, dist_scores);\n",
    "plt.xlabel('k');\n",
    "plt.ylabel('Average distances');\n",
    "plt.title('Average within-cluster distance across k');"
   ]
  },
  {
   "cell_type": "code",
   "execution_count": 44,
   "metadata": {},
   "outputs": [],
   "source": [
    "# Re-fit the k-means model with the selected number of clusters and obtain\n",
    "# cluster predictions for the general population demographics data.\n",
    "k = 24\n",
    "k_means = KMeans(n_clusters=k).fit(pca_azdias)\n",
    "clusters_azdias = k_means.predict(pca_azdias)\n"
   ]
  },
  {
   "cell_type": "markdown",
   "metadata": {},
   "source": [
    "### Discussion 3.1: Apply Clustering to General Population\n",
    "\n",
    "Having considered the plot I decided on clustering the data using a k of 24. Although the plot is not fully shaped like an elbow, you can see some kind of plateau around k of 23-24. After that, increasing k does not improve the clustering substantially. "
   ]
  },
  {
   "cell_type": "markdown",
   "metadata": {},
   "source": [
    "### Step 3.2: Apply All Steps to the Customer Data\n",
    "\n",
    "Now that you have clusters and cluster centers for the general population, it's time to see how the customer data maps on to those clusters. Take care to not confuse this for re-fitting all of the models to the customer data. Instead, you're going to use the fits from the general population to clean, transform, and cluster the customer data. In the last step of the project, you will interpret how the general population fits apply to the customer data.\n",
    "\n",
    "- Don't forget when loading in the customers data, that it is semicolon (`;`) delimited.\n",
    "- Apply the same feature wrangling, selection, and engineering steps to the customer demographics using the `clean_data()` function you created earlier. (You can assume that the customer demographics data has similar meaning behind missing data patterns as the general demographics data.)\n",
    "- Use the sklearn objects from the general demographics data, and apply their transformations to the customers data. That is, you should not be using a `.fit()` or `.fit_transform()` method to re-fit the old objects, nor should you be creating new sklearn objects! Carry the data through the feature scaling, PCA, and clustering steps, obtaining cluster assignments for all of the data in the customer demographics data."
   ]
  },
  {
   "cell_type": "code",
   "execution_count": 96,
   "metadata": {},
   "outputs": [],
   "source": [
    "# Load in the customer demographics data.\n",
    "customers = pd.read_csv('Udacity_CUSTOMERS_Subset.csv', sep=';')\n",
    "customers_cleaned = customers.copy()"
   ]
  },
  {
   "cell_type": "code",
   "execution_count": 97,
   "metadata": {},
   "outputs": [
    {
     "name": "stdout",
     "output_type": "stream",
     "text": [
      "DF shape: (191652, 85)\n",
      "Outlier columns:\n",
      "Column: AGER_TYP; Missing Values: 96738\n",
      "Column: GEBURTSJAHR; Missing Values: 93024\n",
      "Column: TITEL_KZ; Missing Values: 189340\n",
      "Column: KK_KUNDENTYP; Missing Values: 111937\n",
      "Column: KBA05_BAUMAX; Missing Values: 109535\n",
      "DF shape without outlier columns: (191652, 80)\n",
      "DF shape without outlier rows: (139372, 80)\n"
     ]
    }
   ],
   "source": [
    "# Apply preprocessing, feature transformation, and clustering from the general\n",
    "# demographics onto the customer data, obtaining cluster predictions for the\n",
    "# customer demographics data.\n",
    "\n",
    "# preprocessing\n",
    "customers_cleaned, customers_cleaned_high = clean_data(customers_cleaned, feat_info)"
   ]
  },
  {
   "cell_type": "code",
   "execution_count": 47,
   "metadata": {},
   "outputs": [],
   "source": [
    "customers_scaled = customers_cleaned.copy()"
   ]
  },
  {
   "cell_type": "code",
   "execution_count": 48,
   "metadata": {},
   "outputs": [],
   "source": [
    "# feature transformation\n",
    "\n",
    "# imputing \n",
    "imputer_customers = Imputer(axis=1, strategy='most_frequent')\n",
    "customers_scaled = imputer.fit_transform(customers_scaled)\n",
    "\n",
    "\n",
    "# scaling \n",
    "scaler_customers = StandardScaler()\n",
    "customers_scaled = scaler.fit_transform(customers_scaled)\n",
    "\n",
    "# PCA\n",
    "pca_c = PCA(n_components=50)\n",
    "pca_customers = pca.fit_transform(customers_scaled)"
   ]
  },
  {
   "cell_type": "code",
   "execution_count": 49,
   "metadata": {},
   "outputs": [],
   "source": [
    "# clustering\n",
    "k_means_customers = KMeans(n_clusters=k).fit(pca_customers)\n",
    "clusters_customers = k_means.predict(pca_customers)"
   ]
  },
  {
   "cell_type": "markdown",
   "metadata": {},
   "source": [
    "### Step 3.3: Compare Customer Data to Demographics Data\n",
    "\n",
    "At this point, you have clustered data based on demographics of the general population of Germany, and seen how the customer data for a mail-order sales company maps onto those demographic clusters. In this final substep, you will compare the two cluster distributions to see where the strongest customer base for the company is.\n",
    "\n",
    "Consider the proportion of persons in each cluster for the general population, and the proportions for the customers. If we think the company's customer base to be universal, then the cluster assignment proportions should be fairly similar between the two. If there are only particular segments of the population that are interested in the company's products, then we should see a mismatch from one to the other. If there is a higher proportion of persons in a cluster for the customer data compared to the general population (e.g. 5% of persons are assigned to a cluster for the general population, but 15% of the customer data is closest to that cluster's centroid) then that suggests the people in that cluster to be a target audience for the company. On the other hand, the proportion of the data in a cluster being larger in the general population than the customer data (e.g. only 2% of customers closest to a population centroid that captures 6% of the data) suggests that group of persons to be outside of the target demographics.\n",
    "\n",
    "Take a look at the following points in this step:\n",
    "\n",
    "- Compute the proportion of data points in each cluster for the general population and the customer data. Visualizations will be useful here: both for the individual dataset proportions, but also to visualize the ratios in cluster representation between groups. Seaborn's [`countplot()`](https://seaborn.pydata.org/generated/seaborn.countplot.html) or [`barplot()`](https://seaborn.pydata.org/generated/seaborn.barplot.html) function could be handy.\n",
    "  - Recall the analysis you performed in step 1.1.3 of the project, where you separated out certain data points from the dataset if they had more than a specified threshold of missing values. If you found that this group was qualitatively different from the main bulk of the data, you should treat this as an additional data cluster in this analysis. Make sure that you account for the number of data points in this subset, for both the general population and customer datasets, when making your computations!\n",
    "- Which cluster or clusters are overrepresented in the customer dataset compared to the general population? Select at least one such cluster and infer what kind of people might be represented by that cluster. Use the principal component interpretations from step 2.3 or look at additional components to help you make this inference. Alternatively, you can use the `.inverse_transform()` method of the PCA and StandardScaler objects to transform centroids back to the original data space and interpret the retrieved values directly.\n",
    "- Perform a similar investigation for the underrepresented clusters. Which cluster or clusters are underrepresented in the customer dataset compared to the general population, and what kinds of people are typified by these clusters?"
   ]
  },
  {
   "cell_type": "code",
   "execution_count": 113,
   "metadata": {},
   "outputs": [],
   "source": [
    "# Compare the proportion of data in each cluster for the customer data to the\n",
    "# proportion of data in each cluster for the general population.\n",
    "clusters_azdias_df = pd.DataFrame({'clusters': clusters_azdias})\n",
    "cluster_counts_azdias = clusters_azdias_df['clusters'].value_counts()\n",
    "cluster_proportions_azdias = cluster_counts_azdias / clusters_azdias_df.shape[0]\n",
    "cluster_proportions_azdias = cluster_proportions_azdias.sort_index()\n",
    "\n",
    "clusters_customers_df = pd.DataFrame({'clusters': clusters_customers})\n",
    "cluster_counts_customers = clusters_customers_df['clusters'].value_counts()\n",
    "cluster_proportions_customers = cluster_counts_customers / clusters_customers_df.shape[0]\n",
    "cluster_proportions_customers = cluster_proportions_customers.sort_index()\n",
    "\n",
    "cluster_proportions_diff = cluster_proportions_customers - cluster_proportions_azdias"
   ]
  },
  {
   "cell_type": "code",
   "execution_count": 115,
   "metadata": {},
   "outputs": [],
   "source": [
    "# for comparison with dropped rows\n",
    "azdias_cleaned_high_cluster = np.ones(azdias_cleaned_high.shape[0], dtype='int32') * -1\n",
    "clusters_azdias_full = np.concatenate([clusters_azdias, azdias_cleaned_high_cluster])\n",
    "clusters_azdias_df_full = pd.DataFrame({'clusters': clusters_azdias})\n",
    "cluster_counts_azdias_full = clusters_azdias_df_full['clusters'].value_counts()\n",
    "cluster_proportions_azdias_full = cluster_counts_azdias_full / clusters_azdias_df_full.shape[0]\n",
    "cluster_proportions_azdias_full = cluster_proportions_azdias_full.sort_index()\n",
    "\n",
    "customers_cleaned_high_cluster = np.ones(customers_cleaned_high.shape[0], dtype='int32') * -1\n",
    "clusters_customers_full = np.concatenate([clusters_customers, customers_cleaned_high_cluster])\n",
    "clusters_customers_df_full = pd.DataFrame({'clusters': clusters_customers_full})\n",
    "cluster_counts_customers_full = clusters_customers_df_full['clusters'].value_counts()\n",
    "cluster_proportions_customers_full = cluster_counts_customers_full / clusters_customers_df_full.shape[0]\n",
    "cluster_proportions_customers_full = cluster_proportions_customers_full.sort_index()\n",
    "\n",
    "cluster_proportions_diff_full = cluster_proportions_customers_full - cluster_proportions_azdias_full"
   ]
  },
  {
   "cell_type": "code",
   "execution_count": 76,
   "metadata": {},
   "outputs": [
    {
     "data": {
      "image/png": "[encoded data removed]",
      "text/plain": [
       "<matplotlib.figure.Figure at 0x7f99226748d0>"
      ]
     },
     "metadata": {
      "needs_background": "light"
     },
     "output_type": "display_data"
    }
   ],
   "source": [
    "plt.rcParams[\"figure.figsize\"] = (23,5);\n",
    "\n",
    "plt.bar(range(0, cluster_proportions_azdias.shape[0]), cluster_proportions_azdias);\n",
    "plt.xticks(range(0, cluster_proportions_azdias.shape[0]));\n",
    "plt.xlabel('Clusters', fontsize=15);\n",
    "plt.ylabel('Prportions', fontsize=15);\n",
    "plt.title('Cluster Proportions (AZDIAS)', fontsize=25);\n",
    "plt.show();"
   ]
  },
  {
   "cell_type": "code",
   "execution_count": 77,
   "metadata": {},
   "outputs": [
    {
     "data": {
      "image/png": "[encoded data removed]",
      "text/plain": [
       "<matplotlib.figure.Figure at 0x7f992838ba58>"
      ]
     },
     "metadata": {
      "needs_background": "light"
     },
     "output_type": "display_data"
    }
   ],
   "source": [
    "plt.rcParams[\"figure.figsize\"] = (23,5);\n",
    "\n",
    "plt.bar(range(0, cluster_proportions_customers.shape[0]), cluster_proportions_customers);\n",
    "plt.xticks(range(0, cluster_proportions_customers.shape[0]));\n",
    "plt.xlabel('Clusters', fontsize=15);\n",
    "plt.ylabel('Prportions', fontsize=15);\n",
    "plt.title('Cluster Proportions (Customers)', fontsize=25);\n",
    "plt.show();"
   ]
  },
  {
   "cell_type": "code",
   "execution_count": 87,
   "metadata": {},
   "outputs": [
    {
     "data": {
      "image/png": "[encoded data removed]",
      "text/plain": [
       "<matplotlib.figure.Figure at 0x7f99278d2908>"
      ]
     },
     "metadata": {
      "needs_background": "light"
     },
     "output_type": "display_data"
    }
   ],
   "source": [
    "plt.rcParams[\"figure.figsize\"] = (23,5);\n",
    "\n",
    "plt.bar(range(0, cluster_proportions_diff.shape[0]), cluster_proportions_diff);\n",
    "plt.axhline(0);\n",
    "plt.xticks(range(0, cluster_proportions_diff.shape[0]));\n",
    "plt.xlabel('Clusters (positive = larger customer cluster)', fontsize=15);\n",
    "plt.ylabel('Prportions', fontsize=15);\n",
    "plt.title('Cluster Proportions (Differences AZDIAS vs Customers)', fontsize=25);\n",
    "plt.show();"
   ]
  },
  {
   "cell_type": "code",
   "execution_count": 120,
   "metadata": {},
   "outputs": [
    {
     "data": {
      "image/png": "[encoded data removed]",
      "text/plain": [
       "<matplotlib.figure.Figure at 0x7f9927c45940>"
      ]
     },
     "metadata": {
      "needs_background": "light"
     },
     "output_type": "display_data"
    }
   ],
   "source": [
    "plt.rcParams[\"figure.figsize\"] = (23,5);\n",
    "\n",
    "plt.bar(range(-1, cluster_proportions_diff_full.shape[0]-1), cluster_proportions_diff_full);\n",
    "plt.axhline(0);\n",
    "plt.xticks(range(-1, cluster_proportions_diff_full.shape[0]-1));\n",
    "plt.xlabel('Clusters (positive = larger customer cluster)', fontsize=15);\n",
    "plt.ylabel('Prportions', fontsize=15);\n",
    "plt.title('Cluster Proportions (Differences AZDIAS vs Customers)', fontsize=25);\n",
    "plt.show();"
   ]
  },
  {
   "cell_type": "code",
   "execution_count": 89,
   "metadata": {},
   "outputs": [],
   "source": [
    "# What kinds of people are part of a cluster that is overrepresented in the\n",
    "# customer data compared to the general population?\n",
    "clusters_ids_over = [1,2,4,5,6,7,13,22]\n"
   ]
  },
  {
   "cell_type": "code",
   "execution_count": null,
   "metadata": {},
   "outputs": [],
   "source": [
    "#stand_scaler.inverse_transform(pca_model.inverse_transform(model.cluster_centers_[4]))"
   ]
  },
  {
   "cell_type": "code",
   "execution_count": 127,
   "metadata": {},
   "outputs": [
    {
     "ename": "AttributeError",
     "evalue": "'PCA' object has no attribute 'components_'",
     "output_type": "error",
     "traceback": [
      "\u001b[0;31m---------------------------------------------------------------------------\u001b[0m",
      "\u001b[0;31mAttributeError\u001b[0m                            Traceback (most recent call last)",
      "\u001b[0;32m<ipython-input-127-741cf9f0f917>\u001b[0m in \u001b[0;36m<module>\u001b[0;34m()\u001b[0m\n\u001b[0;32m----> 1\u001b[0;31m \u001b[0mscaler_customers\u001b[0m\u001b[0;34m.\u001b[0m\u001b[0minverse_transform\u001b[0m\u001b[0;34m(\u001b[0m\u001b[0mpca_c\u001b[0m\u001b[0;34m.\u001b[0m\u001b[0minverse_transform\u001b[0m\u001b[0;34m(\u001b[0m\u001b[0mk_means_customers\u001b[0m\u001b[0;34m.\u001b[0m\u001b[0mcluster_centers_\u001b[0m\u001b[0;34m[\u001b[0m\u001b[0;36m22\u001b[0m\u001b[0;34m]\u001b[0m\u001b[0;34m)\u001b[0m\u001b[0;34m)\u001b[0m\u001b[0;34m\u001b[0m\u001b[0m\n\u001b[0m",
      "\u001b[0;32m/opt/conda/lib/python3.6/site-packages/sklearn/decomposition/base.py\u001b[0m in \u001b[0;36minverse_transform\u001b[0;34m(self, X)\u001b[0m\n\u001b[1;32m    158\u001b[0m                             self.components_) + self.mean_\n\u001b[1;32m    159\u001b[0m         \u001b[0;32melse\u001b[0m\u001b[0;34m:\u001b[0m\u001b[0;34m\u001b[0m\u001b[0m\n\u001b[0;32m--> 160\u001b[0;31m             \u001b[0;32mreturn\u001b[0m \u001b[0mnp\u001b[0m\u001b[0;34m.\u001b[0m\u001b[0mdot\u001b[0m\u001b[0;34m(\u001b[0m\u001b[0mX\u001b[0m\u001b[0;34m,\u001b[0m \u001b[0mself\u001b[0m\u001b[0;34m.\u001b[0m\u001b[0mcomponents_\u001b[0m\u001b[0;34m)\u001b[0m \u001b[0;34m+\u001b[0m \u001b[0mself\u001b[0m\u001b[0;34m.\u001b[0m\u001b[0mmean_\u001b[0m\u001b[0;34m\u001b[0m\u001b[0m\n\u001b[0m",
      "\u001b[0;31mAttributeError\u001b[0m: 'PCA' object has no attribute 'components_'"
     ]
    }
   ],
   "source": [
    "#scaler_customers.inverse_transform(pca_c.inverse_transform(k_means_customers.cluster_centers_[22]))"
   ]
  },
  {
   "cell_type": "code",
   "execution_count": null,
   "metadata": {},
   "outputs": [],
   "source": [
    "#pca_c.inverse_transform"
   ]
  },
  {
   "cell_type": "code",
   "execution_count": 90,
   "metadata": {},
   "outputs": [],
   "source": [
    "# What kinds of people are part of a cluster that is underrepresented in the\n",
    "# customer data compared to the general population?\n",
    "clusters_ids_under = [0,3,8,9,10,11,12,14,15,16,17,18,19,20,21,23]\n"
   ]
  },
  {
   "cell_type": "markdown",
   "metadata": {},
   "source": [
    "### Discussion 3.3: Compare Customer Data to Demographics Data\n",
    "\n",
    "(Double-click this cell and replace this text with your own text, reporting findings and conclusions from the clustering analysis. Can we describe segments of the population that are relatively popular with the mail-order company, or relatively unpopular with the company?)"
   ]
  },
  {
   "cell_type": "markdown",
   "metadata": {},
   "source": [
    "> Congratulations on making it this far in the project! Before you finish, make sure to check through the entire notebook from top to bottom to make sure that your analysis follows a logical flow and all of your findings are documented in **Discussion** cells. Once you've checked over all of your work, you should export the notebook as an HTML document to submit for evaluation. You can do this from the menu, navigating to **File -> Download as -> HTML (.html)**. You will submit both that document and this notebook for your project submission."
   ]
  },
  {
   "cell_type": "code",
   "execution_count": null,
   "metadata": {},
   "outputs": [],
   "source": []
  }
 ],
 "metadata": {
  "kernelspec": {
   "display_name": "Python 3",
   "language": "python",
   "name": "python3"
  },
  "language_info": {
   "codemirror_mode": {
    "name": "ipython",
    "version": 3
   },
   "file_extension": ".py",
   "mimetype": "text/x-python",
   "name": "python",
   "nbconvert_exporter": "python",
   "pygments_lexer": "ipython3",
   "version": "3.6.3"
  }
 },
 "nbformat": 4,
 "nbformat_minor": 2
}
